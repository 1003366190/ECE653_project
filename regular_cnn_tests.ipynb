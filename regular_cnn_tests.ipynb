{
  "nbformat": 4,
  "nbformat_minor": 0,
  "metadata": {
    "colab": {
      "name": "regular_cnn_tests.ipynb",
      "provenance": [],
      "collapsed_sections": []
    },
    "kernelspec": {
      "name": "python3",
      "display_name": "Python 3"
    },
    "language_info": {
      "name": "python"
    }
  },
  "cells": [
    {
      "cell_type": "markdown",
      "metadata": {
        "id": "9NqeUpVF8fox"
      },
      "source": [
        "#### load data\n"
      ]
    },
    {
      "cell_type": "code",
      "metadata": {
        "id": "6QFTCS0AVnJR"
      },
      "source": [
        "import keras\n",
        "from cleverhans.tf2.attacks.fast_gradient_method import fast_gradient_method\n",
        "from cleverhans.tf2.attacks.basic_iterative_method import basic_iterative_method\n",
        "from cleverhans.tf2.attacks.projected_gradient_descent import projected_gradient_descent\n",
        "from cleverhans.tf2.attacks.madry_et_al import madry_et_al\n",
        "from cleverhans.tf2.attacks.spsa import spsa\n",
        "from cleverhans.tf2.attacks.momentum_iterative_method import momentum_iterative_method\n",
        "from cleverhans.tf2.attacks.carlini_wagner_l2 import carlini_wagner_l2\n",
        "\n",
        "\n",
        "\n",
        "import tensorflow as tf\n",
        "import cleverhans\n",
        "import numpy as np\n",
        "import matplotlib.pyplot as plt\n",
        "from keras.datasets import cifar10\n",
        "from time import process_time\n",
        "\n",
        "from helper.helper import *\n",
        "from methods.deepfool import *\n",
        "from methods.randomfuzz import *\n",
        "from methods.pixelfuzz import * \n",
        "\n",
        "# loading the dataset\n",
        "(X_train, y_train), (X_test, y_test) = cifar10.load_data()\n",
        "\n",
        "X_train = X_train.reshape(X_train.shape[0], 32, 32, 3)\n",
        "X_test = X_test.reshape(X_test.shape[0], 32, 32, 3) \n",
        "X_train = X_train.astype('float32')\n",
        "X_test = X_test.astype('float32')\n",
        "\n",
        "# normalizing the data to help with the training\n",
        "X_train /= 255\n",
        "X_test /= 255\n",
        "\n"
      ],
      "execution_count": null,
      "outputs": []
    },
    {
      "cell_type": "code",
      "metadata": {
        "id": "d0Of4XmeEPqs"
      },
      "source": [
        "# load the model \n",
        "model = keras.models.load_model(\"./Models/regular_cnn.h5\")\n",
        "# model2 is to get the transfer rate from regularCNN to simpleCNN\n",
        "model2 = keras.models.load_model(\"./Models/simple_cnn.h5\")\n",
        "# some constants\n",
        "num_adversarials = 50\n",
        "results = dict()\n",
        "# set the stepsize\n",
        "epsilon = 1/255"
      ],
      "execution_count": null,
      "outputs": []
    },
    {
      "cell_type": "code",
      "metadata": {
        "id": "UfOerc3BXfHj",
        "colab": {
          "base_uri": "https://localhost:8080/",
          "height": 266
        },
        "outputId": "e4e2f6d1-cea8-405a-a072-85057dff71cf"
      },
      "source": [
        "logits_model = tf.keras.Model(model.input,model.layers[-1].output)\n",
        "seed_images = []\n",
        "seed_labels = []\n",
        "i = 0\n",
        "while i < (num_adversarials):\n",
        "    random_index = np.random.randint(X_test.shape[0])\n",
        "    original_image = X_test[random_index]\n",
        "    original_image = tf.convert_to_tensor(original_image.reshape(1,X_test.shape[1],X_test.shape[2],3), dtype=float) \n",
        "    original_label = y_test[random_index]\n",
        "    predict_X = np.argmax(model.predict(original_image))\n",
        "    if (predict_X == original_label):\n",
        "        seed_images.append(original_image)\n",
        "        seed_labels.append(predict_X)\n",
        "        i+=1\n",
        "plt.figure()\n",
        "plt.grid(False)\n",
        "image = seed_images[-1]\n",
        "plt.imshow(np.reshape(image, (image.shape[1],image.shape[2],3)))\n",
        "plt.show()"
      ],
      "execution_count": null,
      "outputs": [
        {
          "output_type": "display_data",
          "data": {
            "text/plain": [
              "<Figure size 432x288 with 1 Axes>"
            ],
            "image/png": "[encoded data removed]"
          },
          "metadata": {
            "tags": [],
            "needs_background": "light"
          }
        }
      ]
    },
    {
      "cell_type": "markdown",
      "metadata": {
        "id": "s8rF_gHnnMXD"
      },
      "source": [
        "#### 1. DeepFool"
      ]
    },
    {
      "cell_type": "code",
      "metadata": {
        "id": "X8URPwG0-N1Q"
      },
      "source": [
        "# test the Deepfool\n",
        "times = np.zeros(num_adversarials)\n",
        "distance = np.zeros(num_adversarials)\n",
        "transfer_count = 0\n",
        "transfer_adv_count = 0\n",
        "\n",
        "for i in  range(num_adversarials):\n",
        "    now = process_time()\n",
        "    r, loop_i, label_orig, label_pert, adv_image = deepfool(seed_images[i], model)\n",
        "    adv_image = np.clip(adv_image,0,1)\n",
        "    times[i] += process_time()-now\n",
        "    prediction = np.argmax(model.predict(adv_image))\n",
        "    distance[i] = float(tf.norm(seed_images[i] - adv_image, ord=2))\n",
        "    if prediction != seed_labels[i]:\n",
        "        if (np.argmax(model2.predict(seed_images[i])) == seed_labels[i]):\n",
        "            transfer_count += 1\n",
        "            if (np.argmax(model2.predict(adv_image)) != seed_labels[i]):\n",
        "                transfer_adv_count +=1\n",
        "\n",
        "results[\"deepfool\"] = (transfer_adv_count/ transfer_count, distance, times)\n"
      ],
      "execution_count": null,
      "outputs": []
    },
    {
      "cell_type": "code",
      "metadata": {
        "colab": {
          "base_uri": "https://localhost:8080/"
        },
        "id": "vs7DdfM1imuF",
        "outputId": "66cf72bc-ce08-4669-b2ff-1c3c71697915"
      },
      "source": [
        "print(\"average distance\", np.sum(results['deepfool'][1])/len(results['deepfool'][1]))\n",
        "print(\"average runtime\", np.sum(results['deepfool'][2])/len(results['deepfool'][2]))\n",
        "print(\"transfer rate\", results['deepfool'][0])"
      ],
      "execution_count": null,
      "outputs": [
        {
          "output_type": "stream",
          "text": [
            "average distance 10.405713529805652\n",
            "average runtime 0.11375\n",
            "transfer rate 0.4782608695652174\n"
          ],
          "name": "stdout"
        }
      ]
    },
    {
      "cell_type": "markdown",
      "metadata": {
        "id": "5I-WyLnsnSXF"
      },
      "source": [
        "#### 2. FGSM"
      ]
    },
    {
      "cell_type": "code",
      "metadata": {
        "id": "UWPeZ4c6jrc9"
      },
      "source": [
        "# test the FGSM\n",
        "times = np.zeros(num_adversarials)\n",
        "distance = np.zeros(num_adversarials)\n",
        "transfer_count = 0\n",
        "transfer_adv_count = 0\n",
        "for i in  range (num_adversarials):\n",
        "    image = seed_images[i]\n",
        "    while(1):\n",
        "        now = process_time()\n",
        "        adv_image = fast_gradient_method(logits_model,  image, epsilon*50, norm=2, targeted=False, clip_max=1, clip_min = 0)\n",
        "        times[i]+=process_time()-now\n",
        "        prediction = np.argmax(model.predict(adv_image))\n",
        "        image = adv_image\n",
        "        if prediction != seed_labels[i]:\n",
        "            if (np.argmax(model2.predict(seed_images[i])) == seed_labels[i]):\n",
        "                transfer_count += 1\n",
        "                if (np.argmax(model2.predict(adv_image)) != seed_labels[i]):\n",
        "                    transfer_adv_count +=1\n",
        "            distance[i] = float(tf.norm(seed_images[i] - image, ord=2))\n",
        "            break\n",
        "results[\"fgsm\"] = (transfer_adv_count/ transfer_count, distance, times)\n"
      ],
      "execution_count": null,
      "outputs": []
    },
    {
      "cell_type": "code",
      "metadata": {
        "colab": {
          "base_uri": "https://localhost:8080/",
          "height": 345
        },
        "id": "kIYfozUTkcPO",
        "outputId": "36d681eb-9b12-4a84-9266-51cf72d25d78"
      },
      "source": [
        "print(\"average distance\", np.sum(results['fgsm'][1])/len(results['fgsm'][1]))\n",
        "print(\"average runtime\", np.sum(results['fgsm'][2])/len(results['fgsm'][2]))\n",
        "print(\"transfer rate\", results['fgsm'][0])\n",
        "draw(model,adv_image,seed_labels[-1])"
      ],
      "execution_count": null,
      "outputs": [
        {
          "output_type": "stream",
          "text": [
            "average distance 0.24729300886392594\n",
            "average runtime 0.0153125\n",
            "transfer rate 0.07142857142857142\n"
          ],
          "name": "stdout"
        },
        {
          "output_type": "display_data",
          "data": {
            "text/plain": [
              "<Figure size 432x288 with 1 Axes>"
            ],
            "image/png": "[encoded data removed]"
          },
          "metadata": {
            "tags": [],
            "needs_background": "light"
          }
        }
      ]
    },
    {
      "cell_type": "markdown",
      "metadata": {
        "id": "5UYabodInaTe"
      },
      "source": [
        "#### 3. BIM"
      ]
    },
    {
      "cell_type": "code",
      "metadata": {
        "id": "dOd3yiS-2s5w"
      },
      "source": [
        "# test the BIM\n",
        "times = np.zeros(num_adversarials)\n",
        "distance = np.zeros(num_adversarials)\n",
        "transfer_count = 0\n",
        "transfer_adv_count = 0\n",
        "for i in  range (num_adversarials):\n",
        "    image = seed_images[i]\n",
        "    while(1):\n",
        "        now = process_time()\n",
        "        adv_image = basic_iterative_method(logits_model, image, eps = epsilon*50,eps_iter=epsilon,nb_iter=50, norm=2, clip_max=1, clip_min = 0,sanity_checks=False)\n",
        "        times[i]+=process_time()-now\n",
        "        prediction = np.argmax(model.predict(adv_image))\n",
        "        image = adv_image\n",
        "        if prediction != seed_labels[i]:\n",
        "            if (np.argmax(model2.predict(seed_images[i])) == seed_labels[i]):\n",
        "                transfer_count += 1\n",
        "                if (np.argmax(model2.predict(adv_image)) != seed_labels[i]):\n",
        "                    transfer_adv_count +=1\n",
        "            distance[i] = float(tf.norm(seed_images[i] - image, ord=2))\n",
        "            break\n",
        "results[\"bim\"] = (transfer_adv_count/ transfer_count, distance, times)"
      ],
      "execution_count": null,
      "outputs": []
    },
    {
      "cell_type": "code",
      "metadata": {
        "colab": {
          "base_uri": "https://localhost:8080/",
          "height": 345
        },
        "id": "Kqo21eoDk9Q_",
        "outputId": "c4e2021f-68ed-4932-b6a3-7a3a83bad84f"
      },
      "source": [
        "print(\"average distance\", np.sum(results['bim'][1])/len(results['bim'][1]))\n",
        "print(\"average runtime\", np.sum(results['bim'][2])/len(results['bim'][2]))\n",
        "print(\"transfer rate\", results['bim'][0])\n",
        "draw(model,adv_image,seed_labels[-1])"
      ],
      "execution_count": null,
      "outputs": [
        {
          "output_type": "stream",
          "text": [
            "average distance 0.21487027615308762\n",
            "average runtime 0.174375\n",
            "transfer rate 0.07142857142857142\n"
          ],
          "name": "stdout"
        },
        {
          "output_type": "display_data",
          "data": {
            "text/plain": [
              "<Figure size 432x288 with 1 Axes>"
            ],
            "image/png": "[encoded data removed]"
          },
          "metadata": {
            "tags": [],
            "needs_background": "light"
          }
        }
      ]
    },
    {
      "cell_type": "markdown",
      "metadata": {
        "id": "MTVhaFU5ndDP"
      },
      "source": [
        "#### 4.madry"
      ]
    },
    {
      "cell_type": "code",
      "metadata": {
        "id": "KB0XWBSUGQxS"
      },
      "source": [
        "# test the madry, which is projected_gradient_descent with special\n",
        "times = np.zeros(num_adversarials)\n",
        "distance = np.zeros(num_adversarials)\n",
        "transfer_count = 0\n",
        "transfer_adv_count = 0\n",
        "for i in  range (num_adversarials):\n",
        "    image = seed_images[i]\n",
        "    while(1):\n",
        "        now = process_time()\n",
        "        adv_image = madry_et_al(logits_model, image, eps = epsilon*50,eps_iter=epsilon,nb_iter=50, norm=2, clip_max=1, clip_min = 0,sanity_checks=False)\n",
        "        times[i]+=process_time()-now\n",
        "        prediction = np.argmax(model.predict(adv_image))\n",
        "        image = adv_image\n",
        "        if prediction != seed_labels[i]:\n",
        "            if (np.argmax(model2.predict(seed_images[i])) == seed_labels[i]):\n",
        "                transfer_count += 1\n",
        "                if (np.argmax(model2.predict(adv_image)) != seed_labels[i]):\n",
        "                    transfer_adv_count +=1\n",
        "            distance[i] = float(tf.norm(seed_images[i] - image, ord=2))\n",
        "            break\n",
        "results[\"madry\"] = (transfer_adv_count/ transfer_count, distance, times)"
      ],
      "execution_count": null,
      "outputs": []
    },
    {
      "cell_type": "code",
      "metadata": {
        "colab": {
          "base_uri": "https://localhost:8080/",
          "height": 345
        },
        "id": "2H9QIMyMl356",
        "outputId": "a5152cf4-6526-48b9-d0ac-0e7129234b63"
      },
      "source": [
        "print(\"average distance\", np.sum(results['madry'][1])/len(results['madry'][1]))\n",
        "print(\"average runtime\", np.sum(results['madry'][2])/len(results['madry'][2]))\n",
        "print(\"transfer rate\", results['madry'][0])\n",
        "draw(model,adv_image,seed_labels[-1])"
      ],
      "execution_count": null,
      "outputs": [
        {
          "output_type": "stream",
          "text": [
            "average distance 0.24818483471870423\n",
            "average runtime 0.1996875\n",
            "transfer rate 0.07142857142857142\n"
          ],
          "name": "stdout"
        },
        {
          "output_type": "display_data",
          "data": {
            "text/plain": [
              "<Figure size 432x288 with 1 Axes>"
            ],
            "image/png": "[encoded data removed]"
          },
          "metadata": {
            "tags": [],
            "needs_background": "light"
          }
        }
      ]
    },
    {
      "cell_type": "markdown",
      "metadata": {
        "id": "kljLffTwni4T"
      },
      "source": [
        "#### 5. random fuzz"
      ]
    },
    {
      "cell_type": "code",
      "metadata": {
        "id": "098INVvYBh8k"
      },
      "source": [
        "# test the random fuzzer\n",
        "times = np.zeros(num_adversarials)\n",
        "distance = np.zeros(num_adversarials)\n",
        "transfer_count = 0\n",
        "transfer_adv_count = 0\n",
        "for i in  range (num_adversarials):\n",
        "    image = seed_images[i]\n",
        "    now = process_time()\n",
        "    while(1):\n",
        "        adv_image = random_fuzz(image, epsilon*5)\n",
        "        prediction = np.argmax(model.predict(adv_image))\n",
        "        image = adv_image\n",
        "        if prediction != seed_labels[i]:\n",
        "            d = float(tf.norm(seed_images[i] - image, ord=2))\n",
        "            times[i]+=process_time()-now\n",
        "            if (np.argmax(model2.predict(seed_images[i])) == seed_labels[i]):\n",
        "                transfer_count += 1\n",
        "                if (np.argmax(model2.predict(adv_image)) != seed_labels[i]):\n",
        "                    transfer_adv_count +=1\n",
        "            distance [i] = d\n",
        "            break\n",
        "results[\"randomfuzz\"] = (transfer_adv_count/ transfer_count, distance, times)"
      ],
      "execution_count": null,
      "outputs": []
    },
    {
      "cell_type": "code",
      "metadata": {
        "colab": {
          "base_uri": "https://localhost:8080/",
          "height": 345
        },
        "id": "YvFMwCDEnJlP",
        "outputId": "d3184de6-2fa2-4cb4-b2b6-5ba7589019b5"
      },
      "source": [
        "print(\"average distance\", np.sum(results['randomfuzz'][1])/len(results['randomfuzz'][1]))\n",
        "print(\"average runtime\", np.sum(results['randomfuzz'][2])/len(results['randomfuzz'][2]))\n",
        "print(\"transfer rate\", results['randomfuzz'][0])\n",
        "draw(model,adv_image,seed_labels[-1])"
      ],
      "execution_count": null,
      "outputs": [
        {
          "output_type": "stream",
          "text": [
            "average distance 4.104952259063721\n",
            "average runtime 1.62375\n",
            "transfer rate 0.3333333333333333\n"
          ],
          "name": "stdout"
        },
        {
          "output_type": "display_data",
          "data": {
            "text/plain": [
              "<Figure size 432x288 with 1 Axes>"
            ],
            "image/png": "[encoded data removed]"
          },
          "metadata": {
            "tags": [],
            "needs_background": "light"
          }
        }
      ]
    },
    {
      "cell_type": "markdown",
      "metadata": {
        "id": "ptrmtP3ynnob"
      },
      "source": [
        "#### 6. MIM (momentum iterative method)"
      ]
    },
    {
      "cell_type": "code",
      "metadata": {
        "id": "MM59XGB0jR-6"
      },
      "source": [
        "# test the MIM, which is projected_gradient_descent with special\n",
        "times = np.zeros(num_adversarials)\n",
        "distance = np.zeros(num_adversarials)\n",
        "transfer_count = 0\n",
        "transfer_adv_count = 0\n",
        "for i in  range (num_adversarials):\n",
        "    image = seed_images[i]\n",
        "    while(1):\n",
        "        now = process_time()\n",
        "        adv_image = momentum_iterative_method(logits_model, image, norm=2, clip_max=1, clip_min = 0,sanity_checks=False)\n",
        "        times[i]+=process_time()-now\n",
        "        prediction = np.argmax(model.predict(adv_image))\n",
        "        image = adv_image\n",
        "        if prediction != seed_labels[i]:\n",
        "            if (np.argmax(model2.predict(seed_images[i])) == seed_labels[i]):\n",
        "                transfer_count += 1\n",
        "                if (np.argmax(model2.predict(adv_image)) != seed_labels[i]):\n",
        "                    transfer_adv_count +=1\n",
        "            distance[i] = float(tf.norm(seed_images[i] - image, ord=2))\n",
        "            break\n",
        "results[\"MIM\"] = (transfer_adv_count/ transfer_count, distance, times)"
      ],
      "execution_count": null,
      "outputs": []
    },
    {
      "cell_type": "code",
      "metadata": {
        "colab": {
          "base_uri": "https://localhost:8080/",
          "height": 345
        },
        "id": "Jp9wWQ1Hop_W",
        "outputId": "28e1394d-663f-4d0c-de7e-1b7e3c5749bd"
      },
      "source": [
        "print(\"average distance\", np.sum(results['MIM'][1])/len(results['MIM'][1]))\n",
        "print(\"average runtime\", np.sum(results['MIM'][2])/len(results['MIM'][2]))\n",
        "print(\"transfer rate\", results['MIM'][0])\n",
        "draw(model,adv_image,seed_labels[-1])"
      ],
      "execution_count": null,
      "outputs": [
        {
          "output_type": "stream",
          "text": [
            "average distance 0.3209748584032059\n",
            "average runtime 0.039375\n",
            "transfer rate 0.19047619047619047\n"
          ],
          "name": "stdout"
        },
        {
          "output_type": "display_data",
          "data": {
            "text/plain": [
              "<Figure size 432x288 with 1 Axes>"
            ],
            "image/png": "[encoded data removed]"
          },
          "metadata": {
            "tags": [],
            "needs_background": "light"
          }
        }
      ]
    },
    {
      "cell_type": "markdown",
      "metadata": {
        "id": "8_HrJy6unzCZ"
      },
      "source": [
        "#### 7. SPSA"
      ]
    },
    {
      "cell_type": "code",
      "metadata": {
        "id": "dIQ2h8IykPpK",
        "colab": {
          "base_uri": "https://localhost:8080/"
        },
        "outputId": "98223391-7f3c-42f0-a8e9-a9045efb6a1c"
      },
      "source": [
        "# SPSA\n",
        "times = np.zeros(num_adversarials)\n",
        "distance = np.zeros(num_adversarials)\n",
        "transfer_count = 0\n",
        "transfer_adv_count = 0\n",
        "for i in  range (num_adversarials):\n",
        "    image = seed_images[i]\n",
        "    while(1):\n",
        "        now = process_time()\n",
        "        adv_image = spsa(logits_model, image, seed_labels[i],epsilon, 50, clip_max=1, clip_min = 0)\n",
        "        times[i]+=process_time()-now\n",
        "        prediction = np.argmax(model.predict(adv_image))\n",
        "        image = adv_image\n",
        "        if prediction != seed_labels[i]:\n",
        "            if (np.argmax(model2.predict(seed_images[i])) == seed_labels[i]):\n",
        "                transfer_count += 1\n",
        "                if (np.argmax(model2.predict(adv_image)) != seed_labels[i]):\n",
        "                    transfer_adv_count +=1\n",
        "            distance[i] = float(tf.norm(seed_images[i] - image, ord=2))\n",
        "            break\n",
        "results[\"SPSA\"] = (transfer_adv_count/ transfer_count, distance, times)"
      ],
      "execution_count": null,
      "outputs": [
        {
          "output_type": "stream",
          "text": [
            "WARNING:tensorflow:From c:\\users\\victiny\\appdata\\local\\programs\\python\\python39\\lib\\site-packages\\cleverhans\\tf2\\attacks\\spsa.py:394: calling while_loop_v2 (from tensorflow.python.ops.control_flow_ops) with back_prop=False is deprecated and will be removed in a future version.\n",
            "Instructions for updating:\n",
            "back_prop=False is deprecated. Consider using tf.stop_gradient instead.\n",
            "Instead of:\n",
            "results = tf.while_loop(c, b, vars, back_prop=False)\n",
            "Use:\n",
            "results = tf.nest.map_structure(tf.stop_gradient, tf.while_loop(c, b, vars))\n"
          ],
          "name": "stdout"
        },
        {
          "output_type": "stream",
          "text": [
            "c:\\users\\victiny\\appdata\\local\\programs\\python\\python39\\lib\\site-packages\\tensorflow\\python\\keras\\optimizer_v2\\optimizer_v2.py:374: UserWarning: The `lr` argument is deprecated, use `learning_rate` instead.\n",
            "  warnings.warn(\n"
          ],
          "name": "stderr"
        }
      ]
    },
    {
      "cell_type": "code",
      "metadata": {
        "colab": {
          "base_uri": "https://localhost:8080/",
          "height": 345
        },
        "id": "A6WlwBANqkUw",
        "outputId": "e6262a1b-b2bd-4e1c-9504-0f90776d2ec4"
      },
      "source": [
        "print(\"average distance\", np.sum(results['SPSA'][1])/len(results['SPSA'][1]))\n",
        "print(\"average runtime\", np.sum(results['SPSA'][2])/len(results['SPSA'][2]))\n",
        "print(\"transfer rate\", results['SPSA'][0])\n",
        "draw(model,adv_image,seed_labels[-1])"
      ],
      "execution_count": null,
      "outputs": [
        {
          "output_type": "stream",
          "text": [
            "average distance 0.2805298233032227\n",
            "average runtime 1.1109375\n",
            "transfer rate 0.07142857142857142\n"
          ],
          "name": "stdout"
        },
        {
          "output_type": "display_data",
          "data": {
            "text/plain": [
              "<Figure size 432x288 with 1 Axes>"
            ],
            "image/png": "[encoded data removed]"
          },
          "metadata": {
            "tags": [],
            "needs_background": "light"
          }
        }
      ]
    },
    {
      "cell_type": "markdown",
      "metadata": {
        "id": "dffYp-xcn6SL"
      },
      "source": [
        "#### 8. Carlini Wagner"
      ]
    },
    {
      "cell_type": "code",
      "metadata": {
        "id": "LGP0WLCymGbC"
      },
      "source": [
        "# carlini wagner\n",
        "times = np.zeros(num_adversarials)\n",
        "distance = np.zeros(num_adversarials)\n",
        "transfer_count = 0\n",
        "transfer_adv_count = 0\n",
        "for i in  range (num_adversarials):\n",
        "    image = seed_images[i]\n",
        "    while(1):\n",
        "        now = process_time()\n",
        "        adv_image = carlini_wagner_l2(logits_model, image)\n",
        "        times[i]+=process_time()-now\n",
        "        prediction = np.argmax(model.predict(adv_image))\n",
        "        image = adv_image\n",
        "        if prediction != seed_labels[i]:\n",
        "            if (np.argmax(model2.predict(seed_images[i])) == seed_labels[i]):\n",
        "                transfer_count += 1\n",
        "                if (np.argmax(model2.predict(adv_image)) != seed_labels[i]):\n",
        "                    transfer_adv_count +=1\n",
        "            distance[i] = float(tf.norm(seed_images[i] - image, ord=2))\n",
        "            break\n",
        "        print(\"1\")\n",
        "results[\"CW\"] = (transfer_adv_count/ transfer_count, distance, times)\n"
      ],
      "execution_count": null,
      "outputs": []
    },
    {
      "cell_type": "code",
      "metadata": {
        "colab": {
          "base_uri": "https://localhost:8080/",
          "height": 345
        },
        "id": "j9rpDqoTrA0o",
        "outputId": "1d238816-3f6f-495d-dbf9-0af9cc33e2fd"
      },
      "source": [
        "print(\"average distance\", np.sum(results['CW'][1])/len(results['CW'][1]))\n",
        "print(\"average runtime\", np.sum(results['CW'][2])/len(results['CW'][2]))\n",
        "print(\"transfer rate\", results['CW'][0])\n",
        "draw(model,adv_image,seed_labels[-1])"
      ],
      "execution_count": null,
      "outputs": [
        {
          "output_type": "stream",
          "text": [
            "average distance 0.13219165906310082\n",
            "average runtime 23.38375\n",
            "transfer rate 0.047619047619047616\n"
          ],
          "name": "stdout"
        },
        {
          "output_type": "display_data",
          "data": {
            "text/plain": [
              "<Figure size 432x288 with 1 Axes>"
            ],
            "image/png": "[encoded data removed]"
          },
          "metadata": {
            "tags": [],
            "needs_background": "light"
          }
        }
      ]
    },
    {
      "cell_type": "markdown",
      "metadata": {
        "id": "6cWnGBlrso7m"
      },
      "source": [
        "#### 9. Pixel fuzz"
      ]
    },
    {
      "cell_type": "code",
      "metadata": {
        "id": "vIvrExpW7_1c"
      },
      "source": [
        "times = np.zeros(num_adversarials)\n",
        "distance = np.zeros(num_adversarials)\n",
        "transfer_count = 0\n",
        "transfer_adv_count = 0\n",
        "for i in  range (num_adversarials):\n",
        "    image = seed_images[i]\n",
        "    now = process_time()\n",
        "    while(1):\n",
        "        adv_image = pixel_fuzz(logits_model, image, epsilon*5, num_pixels = 10)\n",
        "        prediction = np.argmax(model.predict(adv_image))\n",
        "        image = adv_image\n",
        "        if prediction != seed_labels[i]:\n",
        "            d = float(tf.norm(seed_images[i] - image, ord=2))\n",
        "            if d<=1.5:\n",
        "                times[i]+=process_time()-now\n",
        "                if (np.argmax(model2.predict(seed_images[i])) == seed_labels[i]):\n",
        "                    transfer_count += 1\n",
        "                    if (np.argmax(model2.predict(adv_image)) != seed_labels[i]):\n",
        "                        transfer_adv_count +=1\n",
        "                distance [i] = d\n",
        "                break\n",
        "results[\"pixelfuzz\"] = (transfer_adv_count/ transfer_count, distance, times)"
      ],
      "execution_count": null,
      "outputs": []
    },
    {
      "cell_type": "code",
      "metadata": {
        "colab": {
          "base_uri": "https://localhost:8080/",
          "height": 345
        },
        "id": "ltdxzYTCs9bM",
        "outputId": "e5b468f3-3701-43c4-fdb7-84c6817b51a7"
      },
      "source": [
        "print(\"average distance\", np.sum(results['pixelfuzz'][1])/len(results['pixelfuzz'][1]))\n",
        "print(\"average runtime\", np.sum(results['pixelfuzz'][2])/len(results['pixelfuzz'][2]))\n",
        "print(\"transfer rate\", results['pixelfuzz'][0])\n",
        "draw(model,adv_image,seed_labels[-1])"
      ],
      "execution_count": null,
      "outputs": [
        {
          "output_type": "stream",
          "text": [
            "average distance 0.3124334217607975\n",
            "average runtime 0.6428125\n",
            "transfer rate 0.07142857142857142\n"
          ],
          "name": "stdout"
        },
        {
          "output_type": "display_data",
          "data": {
            "text/plain": [
              "<Figure size 432x288 with 1 Axes>"
            ],
            "image/png": "[encoded data removed]"
          },
          "metadata": {
            "tags": [],
            "needs_background": "light"
          }
        }
      ]
    },
    {
      "cell_type": "markdown",
      "metadata": {
        "id": "m5VdG5ho8yHS"
      },
      "source": [
        "#### show model architecture\n"
      ]
    },
    {
      "cell_type": "code",
      "metadata": {
        "colab": {
          "base_uri": "https://localhost:8080/"
        },
        "id": "bvt6Q8NdLbAx",
        "outputId": "f1c517be-c76c-4900-c831-729b8dd6df76"
      },
      "source": [
        "model.summary()"
      ],
      "execution_count": null,
      "outputs": [
        {
          "output_type": "stream",
          "text": [
            "Model: \"sequential_1\"\n",
            "_________________________________________________________________\n",
            "Layer (type)                 Output Shape              Param #   \n",
            "=================================================================\n",
            "conv2d_3 (Conv2D)            (None, 32, 32, 100)       2800      \n",
            "_________________________________________________________________\n",
            "batch_normalization_5 (Batch (None, 32, 32, 100)       400       \n",
            "_________________________________________________________________\n",
            "conv2d_4 (Conv2D)            (None, 32, 32, 100)       90100     \n",
            "_________________________________________________________________\n",
            "batch_normalization_6 (Batch (None, 32, 32, 100)       400       \n",
            "_________________________________________________________________\n",
            "max_pooling2d_2 (MaxPooling2 (None, 16, 16, 100)       0         \n",
            "_________________________________________________________________\n",
            "conv2d_5 (Conv2D)            (None, 16, 16, 50)        45050     \n",
            "_________________________________________________________________\n",
            "batch_normalization_7 (Batch (None, 16, 16, 50)        200       \n",
            "_________________________________________________________________\n",
            "max_pooling2d_3 (MaxPooling2 (None, 8, 8, 50)          0         \n",
            "_________________________________________________________________\n",
            "flatten_1 (Flatten)          (None, 3200)              0         \n",
            "_________________________________________________________________\n",
            "dense_3 (Dense)              (None, 500)               1600500   \n",
            "_________________________________________________________________\n",
            "batch_normalization_8 (Batch (None, 500)               2000      \n",
            "_________________________________________________________________\n",
            "dense_4 (Dense)              (None, 250)               125250    \n",
            "_________________________________________________________________\n",
            "batch_normalization_9 (Batch (None, 250)               1000      \n",
            "_________________________________________________________________\n",
            "dense_5 (Dense)              (None, 10)                2510      \n",
            "=================================================================\n",
            "Total params: 1,870,210\n",
            "Trainable params: 1,868,210\n",
            "Non-trainable params: 2,000\n",
            "_________________________________________________________________\n"
          ],
          "name": "stdout"
        }
      ]
    },
    {
      "cell_type": "code",
      "metadata": {
        "colab": {
          "base_uri": "https://localhost:8080/"
        },
        "id": "8TmK2sqBL35a",
        "outputId": "9f6f465c-2887-4d1b-eaac-9606fd1ecf9b"
      },
      "source": [
        "model2.summary()"
      ],
      "execution_count": null,
      "outputs": [
        {
          "output_type": "stream",
          "text": [
            "Model: \"sequential\"\n",
            "_________________________________________________________________\n",
            "Layer (type)                 Output Shape              Param #   \n",
            "=================================================================\n",
            "conv2d (Conv2D)              (None, 32, 32, 75)        2100      \n",
            "_________________________________________________________________\n",
            "batch_normalization (BatchNo (None, 32, 32, 75)        300       \n",
            "_________________________________________________________________\n",
            "conv2d_1 (Conv2D)            (None, 32, 32, 50)        33800     \n",
            "_________________________________________________________________\n",
            "batch_normalization_1 (Batch (None, 32, 32, 50)        200       \n",
            "_________________________________________________________________\n",
            "max_pooling2d (MaxPooling2D) (None, 16, 16, 50)        0         \n",
            "_________________________________________________________________\n",
            "conv2d_2 (Conv2D)            (None, 16, 16, 50)        22550     \n",
            "_________________________________________________________________\n",
            "batch_normalization_2 (Batch (None, 16, 16, 50)        200       \n",
            "_________________________________________________________________\n",
            "max_pooling2d_1 (MaxPooling2 (None, 8, 8, 50)          0         \n",
            "_________________________________________________________________\n",
            "flatten (Flatten)            (None, 3200)              0         \n",
            "_________________________________________________________________\n",
            "dense (Dense)                (None, 250)               800250    \n",
            "_________________________________________________________________\n",
            "batch_normalization_3 (Batch (None, 250)               1000      \n",
            "_________________________________________________________________\n",
            "dense_1 (Dense)              (None, 250)               62750     \n",
            "_________________________________________________________________\n",
            "batch_normalization_4 (Batch (None, 250)               1000      \n",
            "_________________________________________________________________\n",
            "dense_2 (Dense)              (None, 10)                2510      \n",
            "=================================================================\n",
            "Total params: 926,660\n",
            "Trainable params: 925,310\n",
            "Non-trainable params: 1,350\n",
            "_________________________________________________________________\n"
          ],
          "name": "stdout"
        }
      ]
    },
    {
      "cell_type": "code",
      "metadata": {
        "id": "Ch3xMWE2VLmn"
      },
      "source": [
        "save_obj(results,\"regularcnnstats\")"
      ],
      "execution_count": null,
      "outputs": []
    }
  ]
}