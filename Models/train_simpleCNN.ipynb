{
  "nbformat": 4,
  "nbformat_minor": 0,
  "metadata": {
    "colab": {
      "name": "train_simple_cnn.ipynb",
      "provenance": [],
      "collapsed_sections": []
    },
    "kernelspec": {
      "display_name": "Python 3",
      "language": "python",
      "name": "python3"
    },
    "language_info": {
      "codemirror_mode": {
        "name": "ipython",
        "version": 3
      },
      "file_extension": ".py",
      "mimetype": "text/x-python",
      "name": "python",
      "nbconvert_exporter": "python",
      "pygments_lexer": "ipython3",
      "version": "3.9.1"
    }
  },
  "cells": [
    {
      "cell_type": "code",
      "metadata": {
        "id": "aTrSf0soTX6g"
      },
      "source": [
        "import warnings\n",
        "warnings.filterwarnings(\"ignore\")\n"
      ],
      "execution_count": 1,
      "outputs": []
    },
    {
      "cell_type": "code",
      "metadata": {
        "id": "CnVwUM3wTkql",
        "colab": {
          "base_uri": "https://localhost:8080/"
        },
        "outputId": "7409303f-f77d-4fbd-85c7-f22f6a12e4b3"
      },
      "source": [
        "from keras.datasets import cifar10\n",
        "from keras.models import Sequential\n",
        "from keras.layers import Dense, Dropout, Conv2D, MaxPool2D, Flatten, Activation,  MaxPooling2D, BatchNormalization\n",
        "from keras import regularizers\n",
        "from keras.utils import np_utils\n",
        "from keras.preprocessing.image import ImageDataGenerator\n",
        "# loading the dataset\n",
        "(X_train, y_train), (X_test, y_test) = cifar10.load_data()\n",
        "\n",
        "# # building the input vector from the 32x32 pixels\n",
        "X_train = X_train.reshape(X_train.shape[0], 32, 32, 3)\n",
        "X_test = X_test.reshape(X_test.shape[0], 32, 32, 3)\n",
        "X_train = X_train.astype('float32')\n",
        "X_test = X_test.astype('float32')\n",
        "\n",
        "# normalizing the data to help with the training\n",
        "X_train /= 255\n",
        "X_test /= 255\n",
        "\n",
        "# one-hot encoding using keras' numpy-related utilities\n",
        "n_classes = 10\n",
        "print(\"Shape before one-hot encoding: \", y_train.shape)\n",
        "Y_train = np_utils.to_categorical(y_train, n_classes)\n",
        "Y_test = np_utils.to_categorical(y_test, n_classes)\n",
        "print(\"Shape after one-hot encoding: \", Y_train.shape)\n",
        "\n",
        "# building a linear stack of layers with the sequential model\n",
        "model = Sequential()\n",
        "L2_coeff = 0.0005\n",
        "# convolutional layer\n",
        "model.add(Conv2D(75, (3, 3), padding='same', activation='relu', input_shape=[32,32,3],kernel_regularizer=regularizers.l2(L2_coeff)))\n",
        "model.add(BatchNormalization())\n",
        "# convolutional layer\n",
        "model.add(Conv2D(50, kernel_size=(3,3), padding='same', activation='relu',kernel_regularizer=regularizers.l2(L2_coeff)))\n",
        "model.add(BatchNormalization())\n",
        "model.add(MaxPool2D(pool_size=(2,2)))\n",
        "\n",
        "model.add(Conv2D(50, kernel_size=(3,3), padding='same', activation='relu',kernel_regularizer=regularizers.l2(L2_coeff)))\n",
        "model.add(BatchNormalization())\n",
        "model.add(MaxPool2D(pool_size=(2,2)))\n",
        "\n",
        "# flatten output of conv\n",
        "model.add(Flatten())\n",
        "\n",
        "# hidden layer\n",
        "model.add(Dense(250, activation='relu',kernel_regularizer=regularizers.l2(L2_coeff)))\n",
        "model.add(BatchNormalization())\n",
        "model.add(Dense(250, activation='relu',kernel_regularizer=regularizers.l2(L2_coeff)))\n",
        "model.add(BatchNormalization())\n",
        "# output layer\n",
        "model.add(Dense(10, activation='softmax'))\n",
        "\n",
        "# compiling the sequential model\n",
        "model.compile(loss='categorical_crossentropy', metrics=['accuracy'], optimizer='adam')\n",
        "\n",
        "# model.fit(X_train, Y_train, batch_size=500, epochs=40, validation_data=(X_test, Y_test))\n",
        "datagen = ImageDataGenerator(\n",
        "            rotation_range=25,  # randomly rotate images in the range (degrees, 0 to 180)\n",
        "            width_shift_range=0.15,  # randomly shift images horizontally (fraction of total width)\n",
        "            height_shift_range=0.15,  # randomly shift images vertically (fraction of total height)\n",
        "            horizontal_flip=True,  # randomly flip images\n",
        "            vertical_flip=True)  # randomly flip images\n",
        "datagen.fit(X_train)\n",
        "model.fit(datagen.flow(X_train, Y_train, batch_size=500), steps_per_epoch=100, epochs=50, validation_data=(X_test, Y_test))"
      ],
      "execution_count": 2,
      "outputs": [
        {
          "output_type": "stream",
          "text": [
            "Shape before one-hot encoding:  (50000, 1)\n",
            "Shape after one-hot encoding:  (50000, 10)\n",
            "Epoch 1/50\n",
            "100/100 [==============================] - 18s 140ms/step - loss: 2.0967 - accuracy: 0.4012 - val_loss: 3.8023 - val_accuracy: 0.1000\n",
            "Epoch 2/50\n",
            "100/100 [==============================] - 14s 137ms/step - loss: 1.7621 - accuracy: 0.5018 - val_loss: 4.3437 - val_accuracy: 0.1399\n",
            "Epoch 3/50\n",
            "100/100 [==============================] - 14s 135ms/step - loss: 1.6251 - accuracy: 0.5432 - val_loss: 3.8430 - val_accuracy: 0.1738\n",
            "Epoch 4/50\n",
            "100/100 [==============================] - 14s 138ms/step - loss: 1.5221 - accuracy: 0.5703 - val_loss: 3.4365 - val_accuracy: 0.2104\n",
            "Epoch 5/50\n",
            "100/100 [==============================] - 14s 136ms/step - loss: 1.4274 - accuracy: 0.6018 - val_loss: 2.0801 - val_accuracy: 0.4145\n",
            "Epoch 6/50\n",
            "100/100 [==============================] - 14s 137ms/step - loss: 1.3570 - accuracy: 0.6174 - val_loss: 1.3965 - val_accuracy: 0.5976\n",
            "Epoch 7/50\n",
            "100/100 [==============================] - 14s 136ms/step - loss: 1.2976 - accuracy: 0.6390 - val_loss: 1.2803 - val_accuracy: 0.6483\n",
            "Epoch 8/50\n",
            "100/100 [==============================] - 13s 134ms/step - loss: 1.2433 - accuracy: 0.6525 - val_loss: 1.2187 - val_accuracy: 0.6698\n",
            "Epoch 9/50\n",
            "100/100 [==============================] - 13s 134ms/step - loss: 1.2057 - accuracy: 0.6619 - val_loss: 1.2807 - val_accuracy: 0.6417\n",
            "Epoch 10/50\n",
            "100/100 [==============================] - 14s 136ms/step - loss: 1.1748 - accuracy: 0.6712 - val_loss: 1.6387 - val_accuracy: 0.5584\n",
            "Epoch 11/50\n",
            "100/100 [==============================] - 14s 135ms/step - loss: 1.1501 - accuracy: 0.6777 - val_loss: 1.5593 - val_accuracy: 0.5632\n",
            "Epoch 12/50\n",
            "100/100 [==============================] - 14s 136ms/step - loss: 1.1259 - accuracy: 0.6847 - val_loss: 1.1288 - val_accuracy: 0.6872\n",
            "Epoch 13/50\n",
            "100/100 [==============================] - 14s 136ms/step - loss: 1.1048 - accuracy: 0.6913 - val_loss: 1.2565 - val_accuracy: 0.6394\n",
            "Epoch 14/50\n",
            "100/100 [==============================] - 14s 135ms/step - loss: 1.0793 - accuracy: 0.6973 - val_loss: 1.1612 - val_accuracy: 0.6803\n",
            "Epoch 15/50\n",
            "100/100 [==============================] - 14s 136ms/step - loss: 1.0709 - accuracy: 0.7024 - val_loss: 1.2270 - val_accuracy: 0.6649\n",
            "Epoch 16/50\n",
            "100/100 [==============================] - 14s 136ms/step - loss: 1.0606 - accuracy: 0.7068 - val_loss: 1.0679 - val_accuracy: 0.7088\n",
            "Epoch 17/50\n",
            "100/100 [==============================] - 14s 137ms/step - loss: 1.0401 - accuracy: 0.7135 - val_loss: 1.2764 - val_accuracy: 0.6550\n",
            "Epoch 18/50\n",
            "100/100 [==============================] - 14s 137ms/step - loss: 1.0264 - accuracy: 0.7172 - val_loss: 1.2174 - val_accuracy: 0.6697\n",
            "Epoch 19/50\n",
            "100/100 [==============================] - 14s 137ms/step - loss: 1.0204 - accuracy: 0.7204 - val_loss: 1.1047 - val_accuracy: 0.6912\n",
            "Epoch 20/50\n",
            "100/100 [==============================] - 14s 136ms/step - loss: 1.0121 - accuracy: 0.7243 - val_loss: 1.0999 - val_accuracy: 0.6998\n",
            "Epoch 21/50\n",
            "100/100 [==============================] - 14s 137ms/step - loss: 0.9986 - accuracy: 0.7285 - val_loss: 1.1015 - val_accuracy: 0.7000\n",
            "Epoch 22/50\n",
            "100/100 [==============================] - 14s 136ms/step - loss: 0.9902 - accuracy: 0.7301 - val_loss: 1.2585 - val_accuracy: 0.6642\n",
            "Epoch 23/50\n",
            "100/100 [==============================] - 14s 139ms/step - loss: 0.9915 - accuracy: 0.7291 - val_loss: 1.1037 - val_accuracy: 0.7029\n",
            "Epoch 24/50\n",
            "100/100 [==============================] - 14s 138ms/step - loss: 0.9774 - accuracy: 0.7366 - val_loss: 1.1452 - val_accuracy: 0.6970\n",
            "Epoch 25/50\n",
            "100/100 [==============================] - 14s 138ms/step - loss: 0.9711 - accuracy: 0.7386 - val_loss: 1.2257 - val_accuracy: 0.6795\n",
            "Epoch 26/50\n",
            "100/100 [==============================] - 14s 138ms/step - loss: 0.9648 - accuracy: 0.7392 - val_loss: 1.0978 - val_accuracy: 0.7064\n",
            "Epoch 27/50\n",
            "100/100 [==============================] - 14s 138ms/step - loss: 0.9665 - accuracy: 0.7395 - val_loss: 1.0161 - val_accuracy: 0.7316\n",
            "Epoch 28/50\n",
            "100/100 [==============================] - 14s 136ms/step - loss: 0.9579 - accuracy: 0.7423 - val_loss: 1.0886 - val_accuracy: 0.7202\n",
            "Epoch 29/50\n",
            "100/100 [==============================] - 14s 135ms/step - loss: 0.9500 - accuracy: 0.7453 - val_loss: 1.0865 - val_accuracy: 0.7145\n",
            "Epoch 30/50\n",
            "100/100 [==============================] - 14s 137ms/step - loss: 0.9514 - accuracy: 0.7466 - val_loss: 1.2536 - val_accuracy: 0.6808\n",
            "Epoch 31/50\n",
            "100/100 [==============================] - 14s 136ms/step - loss: 0.9387 - accuracy: 0.7498 - val_loss: 1.0929 - val_accuracy: 0.7098\n",
            "Epoch 32/50\n",
            "100/100 [==============================] - 14s 135ms/step - loss: 0.9389 - accuracy: 0.7514 - val_loss: 1.0179 - val_accuracy: 0.7314\n",
            "Epoch 33/50\n",
            "100/100 [==============================] - 14s 135ms/step - loss: 0.9312 - accuracy: 0.7537 - val_loss: 1.0386 - val_accuracy: 0.7342\n",
            "Epoch 34/50\n",
            "100/100 [==============================] - 14s 135ms/step - loss: 0.9247 - accuracy: 0.7567 - val_loss: 1.0967 - val_accuracy: 0.7050\n",
            "Epoch 35/50\n",
            "100/100 [==============================] - 14s 137ms/step - loss: 0.9247 - accuracy: 0.7552 - val_loss: 1.1151 - val_accuracy: 0.7026\n",
            "Epoch 36/50\n",
            "100/100 [==============================] - 14s 135ms/step - loss: 0.9241 - accuracy: 0.7567 - val_loss: 1.1375 - val_accuracy: 0.7045\n",
            "Epoch 37/50\n",
            "100/100 [==============================] - 14s 136ms/step - loss: 0.9284 - accuracy: 0.7555 - val_loss: 1.1255 - val_accuracy: 0.7079\n",
            "Epoch 38/50\n",
            "100/100 [==============================] - 14s 135ms/step - loss: 0.9191 - accuracy: 0.7604 - val_loss: 1.0938 - val_accuracy: 0.7058\n",
            "Epoch 39/50\n",
            "100/100 [==============================] - 14s 137ms/step - loss: 0.9057 - accuracy: 0.7636 - val_loss: 0.9796 - val_accuracy: 0.7448\n",
            "Epoch 40/50\n",
            "100/100 [==============================] - 14s 138ms/step - loss: 0.9101 - accuracy: 0.7610 - val_loss: 1.1370 - val_accuracy: 0.7086\n",
            "Epoch 41/50\n",
            "100/100 [==============================] - 14s 137ms/step - loss: 0.9072 - accuracy: 0.7647 - val_loss: 1.0541 - val_accuracy: 0.7320\n",
            "Epoch 42/50\n",
            "100/100 [==============================] - 14s 136ms/step - loss: 0.9038 - accuracy: 0.7652 - val_loss: 1.0566 - val_accuracy: 0.7241\n",
            "Epoch 43/50\n",
            "100/100 [==============================] - 14s 137ms/step - loss: 0.9070 - accuracy: 0.7653 - val_loss: 0.9837 - val_accuracy: 0.7434\n",
            "Epoch 44/50\n",
            "100/100 [==============================] - 14s 135ms/step - loss: 0.8943 - accuracy: 0.7694 - val_loss: 0.9996 - val_accuracy: 0.7402\n",
            "Epoch 45/50\n",
            "100/100 [==============================] - 14s 136ms/step - loss: 0.8977 - accuracy: 0.7660 - val_loss: 1.2744 - val_accuracy: 0.6767\n",
            "Epoch 46/50\n",
            "100/100 [==============================] - 14s 136ms/step - loss: 0.8915 - accuracy: 0.7691 - val_loss: 1.1666 - val_accuracy: 0.6982\n",
            "Epoch 47/50\n",
            "100/100 [==============================] - 14s 136ms/step - loss: 0.8935 - accuracy: 0.7693 - val_loss: 1.0706 - val_accuracy: 0.7314\n",
            "Epoch 48/50\n",
            "100/100 [==============================] - 14s 136ms/step - loss: 0.8983 - accuracy: 0.7682 - val_loss: 0.9906 - val_accuracy: 0.7411\n",
            "Epoch 49/50\n",
            "100/100 [==============================] - 14s 135ms/step - loss: 0.8900 - accuracy: 0.7704 - val_loss: 1.1781 - val_accuracy: 0.7031\n",
            "Epoch 50/50\n",
            "100/100 [==============================] - 14s 135ms/step - loss: 0.8844 - accuracy: 0.7738 - val_loss: 1.0928 - val_accuracy: 0.7277\n"
          ],
          "name": "stdout"
        },
        {
          "output_type": "execute_result",
          "data": {
            "text/plain": [
              "<tensorflow.python.keras.callbacks.History at 0x222fb61aca0>"
            ]
          },
          "metadata": {
            "tags": []
          },
          "execution_count": 2
        }
      ]
    },
    {
      "cell_type": "code",
      "metadata": {
        "colab": {
          "base_uri": "https://localhost:8080/"
        },
        "id": "otC2BmuaTeio",
        "outputId": "4a091dea-a418-403a-9ec8-ec2265e89f9c"
      },
      "source": [
        "\n",
        "model.fit(X_train, Y_train, batch_size=500, epochs=1, validation_data=(X_test, Y_test))"
      ],
      "execution_count": 3,
      "outputs": [
        {
          "output_type": "stream",
          "text": [
            "100/100 [==============================] - 4s 40ms/step - loss: 0.6713 - accuracy: 0.8484 - val_loss: 0.7574 - val_accuracy: 0.8208\n"
          ],
          "name": "stdout"
        },
        {
          "output_type": "execute_result",
          "data": {
            "text/plain": [
              "<tensorflow.python.keras.callbacks.History at 0x222ab1c0f40>"
            ]
          },
          "metadata": {
            "tags": []
          },
          "execution_count": 3
        }
      ]
    },
    {
      "cell_type": "code",
      "metadata": {
        "id": "h6hCw9ijThbn"
      },
      "source": [
        "model.save('simple_cnn.h5')\n"
      ],
      "execution_count": 4,
      "outputs": []
    }
  ]
}