{
 "cells": [
  {
   "cell_type": "code",
   "execution_count": 7,
   "metadata": {
    "colab": {
     "base_uri": "https://localhost:8080/"
    },
    "id": "63wM50sLdlEP",
    "outputId": "a961a589-7425-4ef2-f1c5-02d62def6cda"
   },
   "outputs": [
    {
     "name": "stdout",
     "output_type": "stream",
     "text": [
      "Shape before one-hot encoding:  (50000, 1)\n",
      "Shape after one-hot encoding:  (50000, 10)\n",
      "Epoch 1/50\n",
      "100/100 [==============================] - 109s 600ms/step - loss: 2.3327 - accuracy: 0.3586 - val_loss: 3.9457 - val_accuracy: 0.1000\n",
      "Epoch 2/50\n",
      "100/100 [==============================] - 59s 593ms/step - loss: 1.8018 - accuracy: 0.5021 - val_loss: 4.2492 - val_accuracy: 0.1000\n",
      "Epoch 3/50\n",
      "100/100 [==============================] - 59s 592ms/step - loss: 1.6300 - accuracy: 0.5505 - val_loss: 3.8784 - val_accuracy: 0.1805\n",
      "Epoch 4/50\n",
      "100/100 [==============================] - 60s 599ms/step - loss: 1.5161 - accuracy: 0.5819 - val_loss: 3.4425 - val_accuracy: 0.2052\n",
      "Epoch 5/50\n",
      "100/100 [==============================] - 60s 599ms/step - loss: 1.4361 - accuracy: 0.6050 - val_loss: 2.2007 - val_accuracy: 0.3422\n",
      "Epoch 6/50\n",
      "100/100 [==============================] - 59s 592ms/step - loss: 1.3893 - accuracy: 0.6184 - val_loss: 1.5639 - val_accuracy: 0.5441\n",
      "Epoch 7/50\n",
      "100/100 [==============================] - 60s 599ms/step - loss: 1.3349 - accuracy: 0.6380 - val_loss: 1.4462 - val_accuracy: 0.5938\n",
      "Epoch 8/50\n",
      "100/100 [==============================] - 59s 588ms/step - loss: 1.3009 - accuracy: 0.6484 - val_loss: 1.6422 - val_accuracy: 0.5508\n",
      "Epoch 9/50\n",
      "100/100 [==============================] - 60s 598ms/step - loss: 1.2781 - accuracy: 0.6562 - val_loss: 2.1788 - val_accuracy: 0.4447\n",
      "Epoch 10/50\n",
      "100/100 [==============================] - 59s 590ms/step - loss: 1.2552 - accuracy: 0.6681 - val_loss: 1.5705 - val_accuracy: 0.5778\n",
      "Epoch 11/50\n",
      "100/100 [==============================] - 59s 589ms/step - loss: 1.2457 - accuracy: 0.6731 - val_loss: 1.5980 - val_accuracy: 0.5659\n",
      "Epoch 12/50\n",
      "100/100 [==============================] - 59s 588ms/step - loss: 1.2287 - accuracy: 0.6792 - val_loss: 1.9133 - val_accuracy: 0.5061\n",
      "Epoch 13/50\n",
      "100/100 [==============================] - 59s 589ms/step - loss: 1.2108 - accuracy: 0.6901 - val_loss: 1.8548 - val_accuracy: 0.5287\n",
      "Epoch 14/50\n",
      "100/100 [==============================] - 59s 590ms/step - loss: 1.1881 - accuracy: 0.6984 - val_loss: 2.0376 - val_accuracy: 0.5007\n",
      "Epoch 15/50\n",
      "100/100 [==============================] - 59s 587ms/step - loss: 1.1743 - accuracy: 0.7030 - val_loss: 1.6344 - val_accuracy: 0.5608\n",
      "Epoch 16/50\n",
      "100/100 [==============================] - 59s 590ms/step - loss: 1.1684 - accuracy: 0.7110 - val_loss: 2.0658 - val_accuracy: 0.4866\n",
      "Epoch 17/50\n",
      "100/100 [==============================] - 59s 588ms/step - loss: 1.1597 - accuracy: 0.7086 - val_loss: 1.5054 - val_accuracy: 0.6125\n",
      "Epoch 18/50\n",
      "100/100 [==============================] - 59s 586ms/step - loss: 1.1507 - accuracy: 0.7153 - val_loss: 1.5208 - val_accuracy: 0.6086\n",
      "Epoch 19/50\n",
      "100/100 [==============================] - 59s 586ms/step - loss: 1.1420 - accuracy: 0.7186 - val_loss: 1.4903 - val_accuracy: 0.6204\n",
      "Epoch 20/50\n",
      "100/100 [==============================] - 60s 595ms/step - loss: 1.1280 - accuracy: 0.7228 - val_loss: 1.4702 - val_accuracy: 0.6257\n",
      "Epoch 21/50\n",
      "100/100 [==============================] - 59s 587ms/step - loss: 1.1299 - accuracy: 0.7218 - val_loss: 1.7711 - val_accuracy: 0.5510\n",
      "Epoch 22/50\n",
      "100/100 [==============================] - 59s 592ms/step - loss: 1.1303 - accuracy: 0.7259 - val_loss: 1.4145 - val_accuracy: 0.6403\n",
      "Epoch 23/50\n",
      "100/100 [==============================] - 59s 588ms/step - loss: 1.1114 - accuracy: 0.7328 - val_loss: 1.3597 - val_accuracy: 0.6562\n",
      "Epoch 24/50\n",
      "100/100 [==============================] - 59s 587ms/step - loss: 1.1157 - accuracy: 0.7308 - val_loss: 1.2511 - val_accuracy: 0.6881\n",
      "Epoch 25/50\n",
      "100/100 [==============================] - 60s 595ms/step - loss: 1.0999 - accuracy: 0.7370 - val_loss: 1.3749 - val_accuracy: 0.6585\n",
      "Epoch 26/50\n",
      "100/100 [==============================] - 59s 586ms/step - loss: 1.0880 - accuracy: 0.7392 - val_loss: 1.6003 - val_accuracy: 0.5996\n",
      "Epoch 27/50\n",
      "100/100 [==============================] - 59s 587ms/step - loss: 1.0953 - accuracy: 0.7373 - val_loss: 1.5146 - val_accuracy: 0.6307\n",
      "Epoch 28/50\n",
      "100/100 [==============================] - 59s 585ms/step - loss: 1.0861 - accuracy: 0.7456 - val_loss: 1.2747 - val_accuracy: 0.6796\n",
      "Epoch 29/50\n",
      "100/100 [==============================] - 59s 586ms/step - loss: 1.0882 - accuracy: 0.7435 - val_loss: 1.2867 - val_accuracy: 0.6779\n",
      "Epoch 30/50\n",
      "100/100 [==============================] - 59s 587ms/step - loss: 1.0929 - accuracy: 0.7396 - val_loss: 1.7747 - val_accuracy: 0.5606\n",
      "Epoch 31/50\n",
      "100/100 [==============================] - 59s 588ms/step - loss: 1.0775 - accuracy: 0.7478 - val_loss: 1.3355 - val_accuracy: 0.6623\n",
      "Epoch 32/50\n",
      "100/100 [==============================] - 59s 590ms/step - loss: 1.0705 - accuracy: 0.7508 - val_loss: 1.3002 - val_accuracy: 0.6774\n",
      "Epoch 33/50\n",
      "100/100 [==============================] - 59s 586ms/step - loss: 1.0710 - accuracy: 0.7472 - val_loss: 1.6609 - val_accuracy: 0.5786\n",
      "Epoch 34/50\n",
      "100/100 [==============================] - 59s 587ms/step - loss: 1.0736 - accuracy: 0.7466 - val_loss: 1.4495 - val_accuracy: 0.6332\n",
      "Epoch 35/50\n",
      "100/100 [==============================] - 59s 585ms/step - loss: 1.0627 - accuracy: 0.7532 - val_loss: 1.5544 - val_accuracy: 0.6127\n",
      "Epoch 36/50\n",
      "100/100 [==============================] - 59s 584ms/step - loss: 1.0628 - accuracy: 0.7572 - val_loss: 1.4847 - val_accuracy: 0.6344\n",
      "Epoch 37/50\n",
      "100/100 [==============================] - 59s 593ms/step - loss: 1.0664 - accuracy: 0.7512 - val_loss: 1.5137 - val_accuracy: 0.6285\n",
      "Epoch 38/50\n",
      "100/100 [==============================] - 59s 587ms/step - loss: 1.0632 - accuracy: 0.7518 - val_loss: 1.4278 - val_accuracy: 0.6557\n",
      "Epoch 39/50\n",
      "100/100 [==============================] - 59s 587ms/step - loss: 1.0482 - accuracy: 0.7560 - val_loss: 1.4851 - val_accuracy: 0.6386\n",
      "Epoch 40/50\n",
      "100/100 [==============================] - 59s 585ms/step - loss: 1.0524 - accuracy: 0.7588 - val_loss: 1.2687 - val_accuracy: 0.6848\n",
      "Epoch 41/50\n",
      "100/100 [==============================] - 59s 585ms/step - loss: 1.0534 - accuracy: 0.7576 - val_loss: 1.1702 - val_accuracy: 0.7257\n",
      "Epoch 42/50\n",
      "100/100 [==============================] - 59s 586ms/step - loss: 1.0510 - accuracy: 0.7579 - val_loss: 1.5633 - val_accuracy: 0.6336\n",
      "Epoch 43/50\n",
      "100/100 [==============================] - 59s 584ms/step - loss: 1.0497 - accuracy: 0.7597 - val_loss: 1.3440 - val_accuracy: 0.6758\n",
      "Epoch 44/50\n",
      "100/100 [==============================] - 58s 583ms/step - loss: 1.0411 - accuracy: 0.7612 - val_loss: 1.4170 - val_accuracy: 0.6615\n",
      "Epoch 45/50\n",
      "100/100 [==============================] - 59s 585ms/step - loss: 1.0434 - accuracy: 0.7623 - val_loss: 1.2779 - val_accuracy: 0.6968\n",
      "Epoch 46/50\n",
      "100/100 [==============================] - 58s 583ms/step - loss: 1.0323 - accuracy: 0.7653 - val_loss: 1.2331 - val_accuracy: 0.7074\n",
      "Epoch 47/50\n",
      "100/100 [==============================] - 58s 583ms/step - loss: 1.0551 - accuracy: 0.7596 - val_loss: 1.3763 - val_accuracy: 0.6559\n",
      "Epoch 48/50\n",
      "100/100 [==============================] - 59s 585ms/step - loss: 1.0416 - accuracy: 0.7651 - val_loss: 1.2532 - val_accuracy: 0.7086\n",
      "Epoch 49/50\n",
      "100/100 [==============================] - 59s 584ms/step - loss: 1.0432 - accuracy: 0.7622 - val_loss: 1.2380 - val_accuracy: 0.7085\n",
      "Epoch 50/50\n",
      "100/100 [==============================] - 58s 583ms/step - loss: 1.0474 - accuracy: 0.7610 - val_loss: 1.1238 - val_accuracy: 0.7397\n"
     ]
    },
    {
     "data": {
      "text/plain": [
       "<keras.callbacks.History at 0x7fdf726a6710>"
      ]
     },
     "execution_count": 7,
     "metadata": {
      "tags": []
     },
     "output_type": "execute_result"
    }
   ],
   "source": [
    "from keras.datasets import cifar10\n",
    "from keras.models import Sequential\n",
    "from keras.layers import Dense, Dropout, Conv2D, MaxPool2D, Flatten, Activation,  MaxPooling2D, BatchNormalization\n",
    "from keras import regularizers\n",
    "from keras.utils import np_utils\n",
    "from keras.preprocessing.image import ImageDataGenerator\n",
    "import numpy as np\n",
    "\n",
    "# loading the dataset\n",
    "(X_train, y_train), (X_test, y_test) = cifar10.load_data()\n",
    "\n",
    "# # building the input vector from the 32x32 pixels\n",
    "X_train = X_train.reshape(X_train.shape[0], 32, 32, 3)\n",
    "X_test = X_test.reshape(X_test.shape[0], 32, 32, 3)\n",
    "X_train = X_train.astype('float32')\n",
    "X_test = X_test.astype('float32')\n",
    "\n",
    "\n",
    "# normalizing the data to help with the training\n",
    "X_train /= 255\n",
    "X_test /= 255\n",
    "\n",
    "# expand the input size by 2*2, so the input now is 64*64\n",
    "X_train = np.repeat(X_train,2,axis=1)\n",
    "X_train = np.repeat(X_train,2,axis=2)\n",
    "X_test = np.repeat(X_test,2,axis=1)\n",
    "X_test = np.repeat(X_test,2,axis=2)\n",
    "\n",
    "\n",
    "\n",
    "\n",
    "\n",
    "# one-hot encoding using keras' numpy-related utilities\n",
    "n_classes = 10\n",
    "print(\"Shape before one-hot encoding: \", y_train.shape)\n",
    "Y_train = np_utils.to_categorical(y_train, n_classes)\n",
    "Y_test = np_utils.to_categorical(y_test, n_classes)\n",
    "print(\"Shape after one-hot encoding: \", Y_train.shape)\n",
    "\n",
    "# building a linear stack of layers with the sequential model\n",
    "model = Sequential()\n",
    "L2_coeff = 0.0005\n",
    "# convolutional layer\n",
    "model.add(Conv2D(75, (3, 3), padding='same', activation='relu', input_shape=[64,64,3],kernel_regularizer=regularizers.l2(L2_coeff)))\n",
    "model.add(BatchNormalization())\n",
    "# convolutional layer\n",
    "model.add(Conv2D(50, kernel_size=(3,3), padding='same', activation='relu',kernel_regularizer=regularizers.l2(L2_coeff)))\n",
    "model.add(BatchNormalization())\n",
    "model.add(MaxPool2D(pool_size=(2,2)))\n",
    "\n",
    "model.add(Conv2D(50, kernel_size=(3,3), padding='same', activation='relu',kernel_regularizer=regularizers.l2(L2_coeff)))\n",
    "model.add(BatchNormalization())\n",
    "model.add(MaxPool2D(pool_size=(2,2)))\n",
    "\n",
    "# flatten output of conv\n",
    "model.add(Flatten())\n",
    "\n",
    "# hidden layer\n",
    "model.add(Dense(250, activation='relu',kernel_regularizer=regularizers.l2(L2_coeff)))\n",
    "model.add(BatchNormalization())\n",
    "model.add(Dense(250, activation='relu',kernel_regularizer=regularizers.l2(L2_coeff)))\n",
    "model.add(BatchNormalization())\n",
    "# output layer\n",
    "model.add(Dense(10, activation='softmax'))\n",
    "\n",
    "# compiling the sequential model\n",
    "model.compile(loss='categorical_crossentropy', metrics=['accuracy'], optimizer='adam')\n",
    "\n",
    "# model.fit(X_train, Y_train, batch_size=500, epochs=40, validation_data=(X_test, Y_test))\n",
    "datagen = ImageDataGenerator(\n",
    "            rotation_range=25,  # randomly rotate images in the range (degrees, 0 to 180)\n",
    "            width_shift_range=0.15,  # randomly shift images horizontally (fraction of total width)\n",
    "            height_shift_range=0.15,  # randomly shift images vertically (fraction of total height)\n",
    "            horizontal_flip=True,  # randomly flip images\n",
    "            vertical_flip=True)  # randomly flip images\n",
    "datagen.fit(X_train)\n",
    "model.fit(datagen.flow(X_train, Y_train, batch_size=500), steps_per_epoch=100, epochs=50, validation_data=(X_test, Y_test))"
   ]
  },
  {
   "cell_type": "code",
   "execution_count": 11,
   "metadata": {
    "colab": {
     "base_uri": "https://localhost:8080/"
    },
    "id": "Con9uXLmi8Us",
    "outputId": "fc05a2e0-aebf-4df1-e8fe-235ddb916955"
   },
   "outputs": [
    {
     "name": "stdout",
     "output_type": "stream",
     "text": [
      "100/100 [==============================] - 28s 276ms/step - loss: 0.3632 - accuracy: 0.9834 - val_loss: 0.9853 - val_accuracy: 0.7900\n"
     ]
    }
   ],
   "source": [
    "model.fit(X_train, Y_train, batch_size=500, epochs=1, validation_data=(X_test, Y_test))\n",
    "model.save('simple_cnn_expanded2.h5')"
   ]
  },
  {
   "cell_type": "code",
   "execution_count": 12,
   "metadata": {
    "colab": {
     "base_uri": "https://localhost:8080/"
    },
    "id": "ctBKNpZnd0K9",
    "outputId": "0577dab2-2f18-4ba4-957e-c5b3a46f0bb3"
   },
   "outputs": [
    {
     "name": "stdout",
     "output_type": "stream",
     "text": [
      "Model: \"sequential_3\"\n",
      "_________________________________________________________________\n",
      "Layer (type)                 Output Shape              Param #   \n",
      "=================================================================\n",
      "conv2d_9 (Conv2D)            (None, 64, 64, 75)        2100      \n",
      "_________________________________________________________________\n",
      "batch_normalization_15 (Batc (None, 64, 64, 75)        300       \n",
      "_________________________________________________________________\n",
      "conv2d_10 (Conv2D)           (None, 64, 64, 50)        33800     \n",
      "_________________________________________________________________\n",
      "batch_normalization_16 (Batc (None, 64, 64, 50)        200       \n",
      "_________________________________________________________________\n",
      "max_pooling2d_6 (MaxPooling2 (None, 32, 32, 50)        0         \n",
      "_________________________________________________________________\n",
      "conv2d_11 (Conv2D)           (None, 32, 32, 50)        22550     \n",
      "_________________________________________________________________\n",
      "batch_normalization_17 (Batc (None, 32, 32, 50)        200       \n",
      "_________________________________________________________________\n",
      "max_pooling2d_7 (MaxPooling2 (None, 16, 16, 50)        0         \n",
      "_________________________________________________________________\n",
      "flatten_3 (Flatten)          (None, 12800)             0         \n",
      "_________________________________________________________________\n",
      "dense_9 (Dense)              (None, 250)               3200250   \n",
      "_________________________________________________________________\n",
      "batch_normalization_18 (Batc (None, 250)               1000      \n",
      "_________________________________________________________________\n",
      "dense_10 (Dense)             (None, 250)               62750     \n",
      "_________________________________________________________________\n",
      "batch_normalization_19 (Batc (None, 250)               1000      \n",
      "_________________________________________________________________\n",
      "dense_11 (Dense)             (None, 10)                2510      \n",
      "=================================================================\n",
      "Total params: 3,326,660\n",
      "Trainable params: 3,325,310\n",
      "Non-trainable params: 1,350\n",
      "_________________________________________________________________\n"
     ]
    }
   ],
   "source": [
    "model.summary( )"
   ]
  }
 ],
 "metadata": {
  "accelerator": "GPU",
  "colab": {
   "name": "train_2expanedinput_simplecnn.ipynb",
   "provenance": []
  },
  "kernelspec": {
   "display_name": "Python 3",
   "language": "python",
   "name": "python3"
  },
  "language_info": {
   "codemirror_mode": {
    "name": "ipython",
    "version": 3
   },
   "file_extension": ".py",
   "mimetype": "text/x-python",
   "name": "python",
   "nbconvert_exporter": "python",
   "pygments_lexer": "ipython3",
   "version": "3.9.1"
  }
 },
 "nbformat": 4,
 "nbformat_minor": 1
}
