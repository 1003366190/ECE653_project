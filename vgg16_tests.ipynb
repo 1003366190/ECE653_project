{
  "nbformat": 4,
  "nbformat_minor": 0,
  "metadata": {
    "colab": {
      "name": "vgg16_tests.ipynb",
      "provenance": [],
      "collapsed_sections": []
    },
    "kernelspec": {
      "name": "python3",
      "display_name": "Python 3"
    },
    "language_info": {
      "name": "python"
    }
  },
  "cells": [
    {
      "cell_type": "markdown",
      "metadata": {
        "id": "9NqeUpVF8fox"
      },
      "source": [
        "#### load data\n"
      ]
    },
    {
      "cell_type": "code",
      "metadata": {
        "id": "6QFTCS0AVnJR"
      },
      "source": [
        "import keras\n",
        "from cleverhans.tf2.attacks.fast_gradient_method import fast_gradient_method\n",
        "from cleverhans.tf2.attacks.basic_iterative_method import basic_iterative_method\n",
        "from cleverhans.tf2.attacks.projected_gradient_descent import projected_gradient_descent\n",
        "from cleverhans.tf2.attacks.madry_et_al import madry_et_al\n",
        "from cleverhans.tf2.attacks.spsa import spsa\n",
        "from cleverhans.tf2.attacks.momentum_iterative_method import momentum_iterative_method\n",
        "from cleverhans.tf2.attacks.carlini_wagner_l2 import carlini_wagner_l2\n",
        "\n",
        "\n",
        "\n",
        "import tensorflow as tf\n",
        "import cleverhans\n",
        "import numpy as np\n",
        "import matplotlib.pyplot as plt\n",
        "from keras.datasets import cifar10\n",
        "from time import process_time\n",
        "\n",
        "from helper.helper import *\n",
        "from methods.deepfool import *\n",
        "from methods.randomfuzz import *\n",
        "from methods.pixelfuzz import * \n",
        "\n",
        "# loading the dataset\n",
        "(X_train, y_train), (X_test, y_test) = cifar10.load_data()\n",
        "\n",
        "X_train = X_train.reshape(X_train.shape[0], 32, 32, 3)\n",
        "X_test = X_test.reshape(X_test.shape[0], 32, 32, 3) \n",
        "X_train = X_train.astype('float32')\n",
        "X_test = X_test.astype('float32')\n",
        "\n",
        "# normalizing the data\n",
        "X_train /= 255\n",
        "X_test /= 255\n",
        "\n"
      ],
      "execution_count": null,
      "outputs": []
    },
    {
      "cell_type": "code",
      "metadata": {
        "id": "d0Of4XmeEPqs"
      },
      "source": [
        "# load the model Note that model2 is for comparing the transfer rate\n",
        "# transfer rate of methdos from vgg16 to regularCNN is calculated in this file\n",
        "model = keras.models.load_model(\"./Models/vgg16.h5\")\n",
        "model2 = keras.models.load_model(\"./Models/regular_cnn.h5\")\n",
        "# select number of tests for each attack methods. which is 50.\n",
        "num_adversarials = 50\n",
        "# results is a dictionary that maps \"methodname\" to tuple of 3()\n",
        "# tuple[0] is the transfer rate\n",
        "# tuple[1] is the np array containing the 50 distances from each adv image to orignal image\n",
        "# tuple[2] is the np array containing the 50 runtimes consumed to generate each adv image\n",
        "results = dict()\n",
        "# some constant, as the data is normalized by /255, minimal stepsize should be multiple of 1/255\n",
        "epsilon = 1/255"
      ],
      "execution_count": null,
      "outputs": []
    },
    {
      "cell_type": "code",
      "metadata": {
        "id": "UfOerc3BXfHj",
        "colab": {
          "base_uri": "https://localhost:8080/",
          "height": 266
        },
        "outputId": "39ef2afb-060e-4c7b-ffa2-97c5a208daa9"
      },
      "source": [
        "# make a copy of the model\n",
        "logits_model = tf.keras.Model(model.input,model.layers[-1].output)\n",
        "# initialize the 2 lists\n",
        "seed_images = []\n",
        "seed_labels = []\n",
        "i = 0\n",
        "# loop until all 50 seed images that the model successfully classify are found\n",
        "while i < (num_adversarials):\n",
        "    # randomly select an image\n",
        "    random_index = np.random.randint(X_test.shape[0])\n",
        "    original_image = X_test[random_index]\n",
        "    original_image = tf.convert_to_tensor(original_image.reshape(1,X_test.shape[1],X_test.shape[2],3), dtype=float) \n",
        "    original_label = y_test[random_index]\n",
        "    predict_X = np.argmax(model.predict(original_image))\n",
        "    # if the image is successfully classified, append this image to the list and record its label\n",
        "    if (predict_X == original_label):\n",
        "        seed_images.append(original_image)\n",
        "        seed_labels.append(predict_X)\n",
        "        i+=1\n",
        "# plot the last image inserted to the list\n",
        "plt.figure()\n",
        "plt.grid(False)\n",
        "image = seed_images[-1]\n",
        "plt.imshow(np.reshape(image, (image.shape[1],image.shape[2],3)))\n",
        "plt.show()"
      ],
      "execution_count": null,
      "outputs": [
        {
          "output_type": "display_data",
          "data": {
            "text/plain": [
              "<Figure size 432x288 with 1 Axes>"
            ],
            "image/png": "[encoded data removed]"
          },
          "metadata": {
            "tags": [],
            "needs_background": "light"
          }
        }
      ]
    },
    {
      "cell_type": "markdown",
      "metadata": {
        "id": "s8rF_gHnnMXD"
      },
      "source": [
        "#### 1. DeepFool"
      ]
    },
    {
      "cell_type": "code",
      "metadata": {
        "id": "X8URPwG0-N1Q"
      },
      "source": [
        "# test the Deepfool\n",
        "times = np.zeros(num_adversarials)\n",
        "distance = np.zeros(num_adversarials)\n",
        "# count the number of images model2 successfully recognizes\n",
        "transfer_count = 0\n",
        "# count the number of images model2 successfully classify and misclassify the adversarial image generated based on model1, \n",
        "transfer_adv_count = 0\n",
        "\n",
        "# loop through the 50 selected original images\n",
        "for i in  range(num_adversarials):\n",
        "    # Note that deepfool guarantees the output is misclassified in one function call, thus no need to set up a loop to ensures misclassification\n",
        "    # for measure run time.\n",
        "    now = process_time()\n",
        "    # call the deepfool function to generate adv image\n",
        "    r, loop_i, label_orig, label_pert, adv_image = deepfool(seed_images[i], model)\n",
        "    # clip the image to within the range\n",
        "    adv_image = np.clip(adv_image,0,1)\n",
        "    # update the runtime array at index\n",
        "    times[i] += process_time()-now\n",
        "    #  get and record the distance between the adv and original image\n",
        "    distance[i] = float(tf.norm(seed_images[i] - adv_image, ord=2))\n",
        "    # check if model2 can classify the original image\n",
        "    if (np.argmax(model2.predict(seed_images[i])) == seed_labels[i]):\n",
        "        transfer_count += 1\n",
        "        # check if model2 misclassify the adv_image generated\n",
        "        if (np.argmax(model2.predict(adv_image)) != seed_labels[i]):\n",
        "            transfer_adv_count +=1\n",
        "# save results into results dictionary\n",
        "results[\"deepfool\"] = (transfer_adv_count/ transfer_count, distance, times)\n"
      ],
      "execution_count": null,
      "outputs": []
    },
    {
      "cell_type": "code",
      "metadata": {
        "id": "m_SwHtOprTXk",
        "colab": {
          "base_uri": "https://localhost:8080/",
          "height": 345
        },
        "outputId": "5470d938-ac09-40fe-801b-af68dbe0684f"
      },
      "source": [
        "# compute and print the results of the 50 samples\n",
        "print(\"average distance\", np.sum(results['deepfool'][1])/len(results['deepfool'][1]))\n",
        "print(\"average runtime\", np.sum(results['deepfool'][2])/len(results['deepfool'][2]))\n",
        "print(\"transfer rate\", results['deepfool'][0])\n",
        "# draw the last image of the 50 selected images for comparison\n",
        "draw(model,adv_image,seed_labels[-1])"
      ],
      "execution_count": null,
      "outputs": [
        {
          "output_type": "stream",
          "text": [
            "average distance 6.059909103438258\n",
            "average runtime 0.325\n",
            "transfer rate 0.5897435897435898\n"
          ],
          "name": "stdout"
        },
        {
          "output_type": "display_data",
          "data": {
            "text/plain": [
              "<Figure size 432x288 with 1 Axes>"
            ],
            "image/png": "[encoded data removed]"
          },
          "metadata": {
            "tags": [],
            "needs_background": "light"
          }
        }
      ]
    },
    {
      "cell_type": "markdown",
      "metadata": {
        "id": "5I-WyLnsnSXF"
      },
      "source": [
        "#### 2. FGSM"
      ]
    },
    {
      "cell_type": "code",
      "metadata": {
        "id": "UWPeZ4c6jrc9"
      },
      "source": [
        "# test the FGSM\n",
        "times = np.zeros(num_adversarials)\n",
        "distance = np.zeros(num_adversarials)\n",
        "transfer_count = 0\n",
        "transfer_adv_count = 0\n",
        "# loop through the 50 selected sample original image\n",
        "for i in  range (num_adversarials):\n",
        "    # set up an loop that breaks when the model misclassify the generated image, \n",
        "    # this allows the generated image keeps moving away from the original image untill misclassification and \n",
        "    # guarantees the generated image is an adversarial image\n",
        "    # Note that many methods dont requires this loop to generate adversarial image (i.e. adv image is found in one iteration)\n",
        "    # this function is just a \"guarantee\" \n",
        "    image = seed_images[i]\n",
        "    while(1):\n",
        "        # for recording the time consumption\n",
        "        now = process_time()\n",
        "        # generate the adv_image based on the old image, in one function call to the fgsm method.\n",
        "        # Note that L2 norm is used, and stepsize of epsilon*50 (which is 50/255) is allowed for one function call, \n",
        "        # this step size of 50/255 will remains the same for the other methods that have this parameter\n",
        "        adv_image = fast_gradient_method(logits_model,  image, epsilon*50, norm=2, targeted=False, clip_max=1, clip_min = 0)\n",
        "        # update the time consumption\n",
        "        times[i]+=process_time()-now\n",
        "        # get the prediction this model makes\n",
        "        prediction = np.argmax(model.predict(adv_image))\n",
        "        # update the generated image\n",
        "        image = adv_image\n",
        "        # if the model misclassify, break the loop and move to next original image\n",
        "        if prediction != seed_labels[i]:\n",
        "            # updates/calculates the transfer rate\n",
        "            if (np.argmax(model2.predict(seed_images[i])) == seed_labels[i]):\n",
        "                transfer_count += 1\n",
        "                if (np.argmax(model2.predict(adv_image)) != seed_labels[i]):\n",
        "                    transfer_adv_count +=1\n",
        "            # record the distance from generated image to original image\n",
        "            distance[i] = float(tf.norm(seed_images[i] - image, ord=2))\n",
        "            break\n",
        "# record the results\n",
        "results[\"fgsm\"] = (transfer_adv_count/ transfer_count, distance, times)\n"
      ],
      "execution_count": null,
      "outputs": []
    },
    {
      "cell_type": "code",
      "metadata": {
        "colab": {
          "base_uri": "https://localhost:8080/",
          "height": 345
        },
        "id": "kIYfozUTkcPO",
        "outputId": "2dcd10cd-7d9b-4074-d5c0-3fbe5e8c7aec"
      },
      "source": [
        "print(\"average distance\", np.sum(results['fgsm'][1])/len(results['fgsm'][1]))\n",
        "print(\"average runtime\", np.sum(results['fgsm'][2])/len(results['fgsm'][2]))\n",
        "print(\"transfer rate\", results['fgsm'][0])\n",
        "draw(model,adv_image,seed_labels[-1])"
      ],
      "execution_count": null,
      "outputs": [
        {
          "output_type": "stream",
          "text": [
            "average distance 0.2779144409298897\n",
            "average runtime 0.0396875\n",
            "transfer rate 0.125\n"
          ],
          "name": "stdout"
        },
        {
          "output_type": "display_data",
          "data": {
            "text/plain": [
              "<Figure size 432x288 with 1 Axes>"
            ],
            "image/png": "[encoded data removed]"
          },
          "metadata": {
            "tags": [],
            "needs_background": "light"
          }
        }
      ]
    },
    {
      "cell_type": "markdown",
      "metadata": {
        "id": "5UYabodInaTe"
      },
      "source": [
        "#### 3. BIM"
      ]
    },
    {
      "cell_type": "code",
      "metadata": {
        "id": "dOd3yiS-2s5w"
      },
      "source": [
        "# test the BIM\n",
        "times = np.zeros(num_adversarials)\n",
        "distance = np.zeros(num_adversarials)\n",
        "transfer_count = 0\n",
        "transfer_adv_count = 0\n",
        "# same setup as fgsm\n",
        "for i in  range (num_adversarials):\n",
        "    image = seed_images[i]\n",
        "    while(1):\n",
        "        now = process_time()\n",
        "        # function call to BIM, also note that L2norm and 50/255 max distance per function call is selected as well\n",
        "        adv_image = basic_iterative_method(logits_model, image, eps = epsilon*50,eps_iter=epsilon,nb_iter=50, norm=2, clip_max=1, clip_min = 0,sanity_checks=False)\n",
        "        times[i]+=process_time()-now\n",
        "        prediction = np.argmax(model.predict(adv_image))\n",
        "        image = adv_image\n",
        "        if prediction != seed_labels[i]:\n",
        "            if (np.argmax(model2.predict(seed_images[i])) == seed_labels[i]):\n",
        "                transfer_count += 1\n",
        "                if (np.argmax(model2.predict(adv_image)) != seed_labels[i]):\n",
        "                    transfer_adv_count +=1\n",
        "            distance[i] = float(tf.norm(seed_images[i] - image, ord=2))\n",
        "            break\n",
        "results[\"bim\"] = (transfer_adv_count/ transfer_count, distance, times)"
      ],
      "execution_count": null,
      "outputs": []
    },
    {
      "cell_type": "code",
      "metadata": {
        "colab": {
          "base_uri": "https://localhost:8080/",
          "height": 345
        },
        "id": "Kqo21eoDk9Q_",
        "outputId": "1ed700ef-d40e-4da2-a7e8-06ac21b23e3f"
      },
      "source": [
        "print(\"average distance\", np.sum(results['bim'][1])/len(results['bim'][1]))\n",
        "print(\"average runtime\", np.sum(results['bim'][2])/len(results['bim'][2]))\n",
        "print(\"transfer rate\", results['bim'][0])\n",
        "draw(model,adv_image,seed_labels[-1])"
      ],
      "execution_count": null,
      "outputs": [
        {
          "output_type": "stream",
          "text": [
            "average distance 0.22963588505983354\n",
            "average runtime 0.41375\n",
            "transfer rate 0.15\n"
          ],
          "name": "stdout"
        },
        {
          "output_type": "display_data",
          "data": {
            "text/plain": [
              "<Figure size 432x288 with 1 Axes>"
            ],
            "image/png": "[encoded data removed]"
          },
          "metadata": {
            "tags": [],
            "needs_background": "light"
          }
        }
      ]
    },
    {
      "cell_type": "markdown",
      "metadata": {
        "id": "MTVhaFU5ndDP"
      },
      "source": [
        "#### 4.madry"
      ]
    },
    {
      "cell_type": "code",
      "metadata": {
        "id": "KB0XWBSUGQxS"
      },
      "source": [
        "# test the madry\n",
        "times = np.zeros(num_adversarials)\n",
        "distance = np.zeros(num_adversarials)\n",
        "transfer_count = 0\n",
        "transfer_adv_count = 0\n",
        "# same setup as fgsm\n",
        "for i in  range (num_adversarials):\n",
        "    image = seed_images[i]\n",
        "    while(1):\n",
        "        now = process_time()\n",
        "        # function call to madry's method\n",
        "        adv_image = madry_et_al(logits_model, image, eps = epsilon*50,eps_iter=epsilon,nb_iter=50, norm=2, clip_max=1, clip_min = 0,sanity_checks=False)\n",
        "        times[i]+=process_time()-now\n",
        "        prediction = np.argmax(model.predict(adv_image))\n",
        "        image = adv_image\n",
        "        if prediction != seed_labels[i]:\n",
        "            if (np.argmax(model2.predict(seed_images[i])) == seed_labels[i]):\n",
        "                transfer_count += 1\n",
        "                if (np.argmax(model2.predict(adv_image)) != seed_labels[i]):\n",
        "                    transfer_adv_count +=1\n",
        "            distance[i] = float(tf.norm(seed_images[i] - image, ord=2))\n",
        "            break\n",
        "results[\"madry\"] = (transfer_adv_count/ transfer_count, distance, times)"
      ],
      "execution_count": null,
      "outputs": []
    },
    {
      "cell_type": "code",
      "metadata": {
        "colab": {
          "base_uri": "https://localhost:8080/",
          "height": 345
        },
        "id": "2H9QIMyMl356",
        "outputId": "7b2a8c48-eed9-44e6-dec6-fe8fa0cb60cd"
      },
      "source": [
        "print(\"average distance\", np.sum(results['madry'][1])/len(results['madry'][1]))\n",
        "print(\"average runtime\", np.sum(results['madry'][2])/len(results['madry'][2]))\n",
        "print(\"transfer rate\", results['madry'][0])\n",
        "draw(model,adv_image,seed_labels[-1])"
      ],
      "execution_count": null,
      "outputs": [
        {
          "output_type": "stream",
          "text": [
            "average distance 0.26143369674682615\n",
            "average runtime 0.46625\n",
            "transfer rate 0.075\n"
          ],
          "name": "stdout"
        },
        {
          "output_type": "display_data",
          "data": {
            "text/plain": [
              "<Figure size 432x288 with 1 Axes>"
            ],
            "image/png": "[encoded data removed]"
          },
          "metadata": {
            "tags": [],
            "needs_background": "light"
          }
        }
      ]
    },
    {
      "cell_type": "markdown",
      "metadata": {
        "id": "kljLffTwni4T"
      },
      "source": [
        "#### 5. random fuzz"
      ]
    },
    {
      "cell_type": "code",
      "metadata": {
        "id": "098INVvYBh8k"
      },
      "source": [
        "# test the random fuzzer\n",
        "times = np.zeros(num_adversarials)\n",
        "distance = np.zeros(num_adversarials)\n",
        "transfer_count = 0\n",
        "transfer_adv_count = 0\n",
        "# same set up as fgsm\n",
        "for i in  range (num_adversarials):\n",
        "    image = seed_images[i]\n",
        "    # start recording process time, unlike fgsm, the time to check misclassification is also included\n",
        "    # as this is an important and time consuming step in the algorithm \n",
        "    now = process_time()\n",
        "    # Note this loop also performs \"generate_adversarial\" function as the report mentions.\n",
        "    while(1):\n",
        "        # function call to the fuzz step function. \n",
        "        adv_image = random_fuzz(image, epsilon*5)\n",
        "        prediction = np.argmax(model.predict(adv_image))\n",
        "        image = adv_image\n",
        "        # when prediction is found, record the time and distance, everything else is the same as fgsm\n",
        "        if prediction != seed_labels[i]:\n",
        "            d = float(tf.norm(seed_images[i] - image, ord=2))\n",
        "            times[i]+=process_time()-now\n",
        "            if (np.argmax(model2.predict(seed_images[i])) == seed_labels[i]):\n",
        "                transfer_count += 1\n",
        "                if (np.argmax(model2.predict(adv_image)) != seed_labels[i]):\n",
        "                    transfer_adv_count +=1\n",
        "            distance [i] = d\n",
        "            break\n",
        "results[\"randomfuzz\"] = (transfer_adv_count/ transfer_count, distance, times)"
      ],
      "execution_count": null,
      "outputs": []
    },
    {
      "cell_type": "code",
      "metadata": {
        "colab": {
          "base_uri": "https://localhost:8080/",
          "height": 345
        },
        "id": "YvFMwCDEnJlP",
        "outputId": "319f80b5-ef08-4318-ec20-2e0d7c73f595"
      },
      "source": [
        "print(\"average distance\", np.sum(results['randomfuzz'][1])/len(results['randomfuzz'][1]))\n",
        "print(\"average runtime\", np.sum(results['randomfuzz'][2])/len(results['randomfuzz'][2]))\n",
        "print(\"transfer rate\", results['randomfuzz'][0])\n",
        "draw(model,adv_image,seed_labels[-1])"
      ],
      "execution_count": null,
      "outputs": [
        {
          "output_type": "stream",
          "text": [
            "average distance 4.34182297706604\n",
            "average runtime 3.2425\n",
            "transfer rate 0.7\n"
          ],
          "name": "stdout"
        },
        {
          "output_type": "display_data",
          "data": {
            "text/plain": [
              "<Figure size 432x288 with 1 Axes>"
            ],
            "image/png": "[encoded data removed]"
          },
          "metadata": {
            "tags": [],
            "needs_background": "light"
          }
        }
      ]
    },
    {
      "cell_type": "markdown",
      "metadata": {
        "id": "ptrmtP3ynnob"
      },
      "source": [
        "#### 6. MIM (momentum iterative method)"
      ]
    },
    {
      "cell_type": "code",
      "metadata": {
        "id": "MM59XGB0jR-6"
      },
      "source": [
        "# test the MIM\n",
        "times = np.zeros(num_adversarials)\n",
        "distance = np.zeros(num_adversarials)\n",
        "transfer_count = 0\n",
        "transfer_adv_count = 0\n",
        "# same set up as fgsm\n",
        "for i in  range (num_adversarials):\n",
        "    image = seed_images[i]\n",
        "    while(1):\n",
        "        now = process_time()\n",
        "        # different function call to MIM method\n",
        "        adv_image = momentum_iterative_method(logits_model, image, norm=2, clip_max=1, clip_min = 0,sanity_checks=False)\n",
        "        times[i]+=process_time()-now\n",
        "        prediction = np.argmax(model.predict(adv_image))\n",
        "        image = adv_image\n",
        "        if prediction != seed_labels[i]:\n",
        "            if (np.argmax(model2.predict(seed_images[i])) == seed_labels[i]):\n",
        "                transfer_count += 1\n",
        "                if (np.argmax(model2.predict(adv_image)) != seed_labels[i]):\n",
        "                    transfer_adv_count +=1\n",
        "            distance[i] = float(tf.norm(seed_images[i] - image, ord=2))\n",
        "            break\n",
        "results[\"MIM\"] = (transfer_adv_count/ transfer_count, distance, times)"
      ],
      "execution_count": null,
      "outputs": []
    },
    {
      "cell_type": "code",
      "metadata": {
        "colab": {
          "base_uri": "https://localhost:8080/",
          "height": 345
        },
        "id": "Jp9wWQ1Hop_W",
        "outputId": "c49edfff-61fb-4776-d555-0b3ee01d5ea0"
      },
      "source": [
        "print(\"average distance\", np.sum(results['MIM'][1])/len(results['MIM'][1]))\n",
        "print(\"average runtime\", np.sum(results['MIM'][2])/len(results['MIM'][2]))\n",
        "print(\"transfer rate\", results['MIM'][0])\n",
        "draw(model,adv_image,seed_labels[-1])"
      ],
      "execution_count": null,
      "outputs": [
        {
          "output_type": "stream",
          "text": [
            "average distance 0.33335193037986754\n",
            "average runtime 0.0965625\n",
            "transfer rate 0.2\n"
          ],
          "name": "stdout"
        },
        {
          "output_type": "display_data",
          "data": {
            "text/plain": [
              "<Figure size 432x288 with 1 Axes>"
            ],
            "image/png": "[encoded data removed]"
          },
          "metadata": {
            "tags": [],
            "needs_background": "light"
          }
        }
      ]
    },
    {
      "cell_type": "markdown",
      "metadata": {
        "id": "8_HrJy6unzCZ"
      },
      "source": [
        "#### 7. SPSA"
      ]
    },
    {
      "cell_type": "code",
      "metadata": {
        "id": "dIQ2h8IykPpK",
        "colab": {
          "base_uri": "https://localhost:8080/"
        },
        "outputId": "47e5cf95-001a-46d1-9561-5bfac5c4a845"
      },
      "source": [
        "# SPSA\n",
        "times = np.zeros(num_adversarials)\n",
        "distance = np.zeros(num_adversarials)\n",
        "transfer_count = 0\n",
        "transfer_adv_count = 0\n",
        "# same set up as fgsm\n",
        "for i in  range (num_adversarials):\n",
        "    image = seed_images[i]\n",
        "    while(1):\n",
        "        now = process_time()\n",
        "        # calls the spsa\n",
        "        adv_image = spsa(logits_model, image, seed_labels[i],epsilon, 50, clip_max=1, clip_min = 0)\n",
        "        times[i]+=process_time()-now\n",
        "        prediction = np.argmax(model.predict(adv_image))\n",
        "        image = adv_image\n",
        "        if prediction != seed_labels[i]:\n",
        "            if (np.argmax(model2.predict(seed_images[i])) == seed_labels[i]):\n",
        "                transfer_count += 1\n",
        "                if (np.argmax(model2.predict(adv_image)) != seed_labels[i]):\n",
        "                    transfer_adv_count +=1\n",
        "            distance[i] = float(tf.norm(seed_images[i] - image, ord=2))\n",
        "            break\n",
        "results[\"SPSA\"] = (transfer_adv_count/ transfer_count, distance, times)"
      ],
      "execution_count": null,
      "outputs": [
        {
          "output_type": "stream",
          "text": [
            "WARNING:tensorflow:From c:\\users\\victiny\\appdata\\local\\programs\\python\\python39\\lib\\site-packages\\cleverhans\\tf2\\attacks\\spsa.py:394: calling while_loop_v2 (from tensorflow.python.ops.control_flow_ops) with back_prop=False is deprecated and will be removed in a future version.\n",
            "Instructions for updating:\n",
            "back_prop=False is deprecated. Consider using tf.stop_gradient instead.\n",
            "Instead of:\n",
            "results = tf.while_loop(c, b, vars, back_prop=False)\n",
            "Use:\n",
            "results = tf.nest.map_structure(tf.stop_gradient, tf.while_loop(c, b, vars))\n"
          ],
          "name": "stdout"
        },
        {
          "output_type": "stream",
          "text": [
            "c:\\users\\victiny\\appdata\\local\\programs\\python\\python39\\lib\\site-packages\\tensorflow\\python\\keras\\optimizer_v2\\optimizer_v2.py:374: UserWarning: The `lr` argument is deprecated, use `learning_rate` instead.\n",
            "  warnings.warn(\n"
          ],
          "name": "stderr"
        }
      ]
    },
    {
      "cell_type": "code",
      "metadata": {
        "colab": {
          "base_uri": "https://localhost:8080/",
          "height": 345
        },
        "id": "A6WlwBANqkUw",
        "outputId": "405c4716-511e-4fb5-817d-49274e58801c"
      },
      "source": [
        "print(\"average distance\", np.sum(results['SPSA'][1])/len(results['SPSA'][1]))\n",
        "print(\"average runtime\", np.sum(results['SPSA'][2])/len(results['SPSA'][2]))\n",
        "print(\"transfer rate\", results['SPSA'][0])\n",
        "draw(model,adv_image,seed_labels[-1])"
      ],
      "execution_count": null,
      "outputs": [
        {
          "output_type": "stream",
          "text": [
            "average distance 0.3207254046201706\n",
            "average runtime 1.885625\n",
            "transfer rate 0.075\n"
          ],
          "name": "stdout"
        },
        {
          "output_type": "display_data",
          "data": {
            "text/plain": [
              "<Figure size 432x288 with 1 Axes>"
            ],
            "image/png": "[encoded data removed]"
          },
          "metadata": {
            "tags": [],
            "needs_background": "light"
          }
        }
      ]
    },
    {
      "cell_type": "markdown",
      "metadata": {
        "id": "dffYp-xcn6SL"
      },
      "source": [
        "#### 8. Carlini Wagner"
      ]
    },
    {
      "cell_type": "code",
      "metadata": {
        "id": "LGP0WLCymGbC"
      },
      "source": [
        "# test carlini wagner\n",
        "times = np.zeros(num_adversarials)\n",
        "distance = np.zeros(num_adversarials)\n",
        "transfer_count = 0\n",
        "transfer_adv_count = 0\n",
        "# same set up as fgsm\n",
        "for i in  range (num_adversarials):\n",
        "    image = seed_images[i]\n",
        "    while(1):\n",
        "        now = process_time()\n",
        "        # function call to C&W's method\n",
        "        adv_image = carlini_wagner_l2(logits_model, image)\n",
        "        times[i]+=process_time()-now\n",
        "        prediction = np.argmax(model.predict(adv_image))\n",
        "        image = adv_image\n",
        "        if prediction != seed_labels[i]:\n",
        "            if (np.argmax(model2.predict(seed_images[i])) == seed_labels[i]):\n",
        "                transfer_count += 1\n",
        "                if (np.argmax(model2.predict(adv_image)) != seed_labels[i]):\n",
        "                    transfer_adv_count +=1\n",
        "            distance[i] = float(tf.norm(seed_images[i] - image, ord=2))\n",
        "            break\n",
        "results[\"CW\"] = (transfer_adv_count/ transfer_count, distance, times)\n"
      ],
      "execution_count": null,
      "outputs": []
    },
    {
      "cell_type": "code",
      "metadata": {
        "colab": {
          "base_uri": "https://localhost:8080/",
          "height": 345
        },
        "id": "j9rpDqoTrA0o",
        "outputId": "720ef47e-2d0b-459d-e6ec-d0546d8997f1"
      },
      "source": [
        "print(\"average distance\", np.sum(results['CW'][1])/len(results['CW'][1]))\n",
        "print(\"average runtime\", np.sum(results['CW'][2])/len(results['CW'][2]))\n",
        "print(\"transfer rate\", results['CW'][0])\n",
        "draw(model,adv_image,seed_labels[-1])"
      ],
      "execution_count": null,
      "outputs": [
        {
          "output_type": "stream",
          "text": [
            "average distance 0.15645855210721493\n",
            "average runtime 41.6784375\n",
            "transfer rate 0.05\n"
          ],
          "name": "stdout"
        },
        {
          "output_type": "display_data",
          "data": {
            "text/plain": [
              "<Figure size 432x288 with 1 Axes>"
            ],
            "image/png": "[encoded data removed]"
          },
          "metadata": {
            "tags": [],
            "needs_background": "light"
          }
        }
      ]
    },
    {
      "cell_type": "markdown",
      "metadata": {
        "id": "6cWnGBlrso7m"
      },
      "source": [
        "#### 9. Pixel fuzz"
      ]
    },
    {
      "cell_type": "code",
      "metadata": {
        "id": "vIvrExpW7_1c"
      },
      "source": [
        "times = np.zeros(num_adversarials)\n",
        "distance = np.zeros(num_adversarials)\n",
        "transfer_count = 0\n",
        "transfer_adv_count = 0\n",
        "# same setup as random fuzz\n",
        "for i in  range (num_adversarials):\n",
        "    image = seed_images[i]\n",
        "    now = process_time()\n",
        "    while(1):\n",
        "        # function call to pixel fuzz fuzz step. \n",
        "        adv_image = pixel_fuzz(logits_model, image, epsilon*5, num_pixels = 10)\n",
        "        prediction = np.argmax(model.predict(adv_image))\n",
        "        image = adv_image\n",
        "        if prediction != seed_labels[i]:\n",
        "            d = float(tf.norm(seed_images[i] - image, ord=2))\n",
        "            # additional step that checks if distance is small enough, \n",
        "            if d<=1.5:\n",
        "                # record runtime and distance\n",
        "                times[i]+=process_time()-now\n",
        "                if (np.argmax(model2.predict(seed_images[i])) == seed_labels[i]):\n",
        "                    transfer_count += 1\n",
        "                    if (np.argmax(model2.predict(adv_image)) != seed_labels[i]):\n",
        "                        transfer_adv_count +=1\n",
        "                distance [i] = d\n",
        "                break\n",
        "            # if distance is too large, print the index and distance\n",
        "            print(d,i)\n",
        "results[\"pixelfuzz\"] = (transfer_adv_count/ transfer_count, distance, times)"
      ],
      "execution_count": null,
      "outputs": []
    },
    {
      "cell_type": "code",
      "metadata": {
        "colab": {
          "base_uri": "https://localhost:8080/"
        },
        "id": "hcx6RUPjLq_p",
        "outputId": "661e8e79-0855-4e6c-f3f4-25af49ae60ff"
      },
      "source": [
        "# additional code block to measure the number of pixels modified\n",
        "# record the total number of rgb values modified\n",
        "num_rbg_modified = 0\n",
        "for i in  range (num_adversarials):\n",
        "    image = seed_images[i]\n",
        "    while(1):\n",
        "        adv_image = pixel_fuzz(logits_model, image, epsilon*5, num_pixels = 10)\n",
        "        prediction = np.argmax(model.predict(adv_image))\n",
        "        # replace the image with the generated adversarial image\n",
        "        image = adv_image\n",
        "        if prediction != seed_labels[i]:\n",
        "            # record the number of rgb values modified\n",
        "            num_rbg_modified += np.count_nonzero(adv_image-seed_images[i])\n",
        "            break\n",
        "# 3 rbg values per pixel. thus divide by 3, print the average pixels modified for each image\n",
        "print(\"the average pixels modified are:\", num_rbg_modified/num_adversarials/3)"
      ],
      "execution_count": null,
      "outputs": [
        {
          "output_type": "stream",
          "text": [
            "the average pixels modified are: 56.71333333333333\n"
          ],
          "name": "stdout"
        }
      ]
    },
    {
      "cell_type": "code",
      "metadata": {
        "colab": {
          "base_uri": "https://localhost:8080/",
          "height": 345
        },
        "id": "ltdxzYTCs9bM",
        "outputId": "ad617d44-98e1-40f5-bea6-a0adc4142b0b"
      },
      "source": [
        "print(\"average distance\", np.sum(results['pixelfuzz'][1])/len(results['pixelfuzz'][1]))\n",
        "print(\"average runtime\", np.sum(results['pixelfuzz'][2])/len(results['pixelfuzz'][2]))\n",
        "print(\"transfer rate\", results['pixelfuzz'][0])\n",
        "draw(model,adv_image,seed_labels[-1])"
      ],
      "execution_count": null,
      "outputs": [
        {
          "output_type": "stream",
          "text": [
            "average distance 0.35584185674786567\n",
            "average runtime 1.1390625\n",
            "transfer rate 0.1\n"
          ],
          "name": "stdout"
        },
        {
          "output_type": "display_data",
          "data": {
            "text/plain": [
              "<Figure size 432x288 with 1 Axes>"
            ],
            "image/png": "[encoded data removed]"
          },
          "metadata": {
            "tags": [],
            "needs_background": "light"
          }
        }
      ]
    },
    {
      "cell_type": "markdown",
      "metadata": {
        "id": "MXBLtGflVQOp"
      },
      "source": [
        "### save the results"
      ]
    },
    {
      "cell_type": "code",
      "metadata": {
        "id": "Ch3xMWE2VLmn"
      },
      "source": [
        "save_obj(results,\"vgg16stats\")\n"
      ],
      "execution_count": null,
      "outputs": []
    }
  ]
}